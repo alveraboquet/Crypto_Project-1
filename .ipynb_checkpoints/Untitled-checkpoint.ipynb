{
 "cells": [
  {
   "cell_type": "code",
   "execution_count": null,
   "metadata": {},
   "outputs": [],
   "source": [
    "from pytrends.request import TrendReq\n",
    "import matplotlib.pyplot as plt\n",
    "import numpy as np\n",
    "import matplotlib.dates as mdates\n",
    "\n",
    "\n",
    "plt.style.use('ggplot')\n",
    "plt.rcParams[\"figure.figsize\"] = (40,20)\n",
    "pytrends = TrendReq(hl='en-GB')"
   ]
  },
  {
   "cell_type": "code",
   "execution_count": null,
   "metadata": {},
   "outputs": [],
   "source": [
    "pytrends.build_payload(all_keywords[kw],\n",
    "                   cat,\n",
    "                   timeframes[5],\n",
    "                   geo,\n",
    "                   gprop)\n",
    "\n",
    "data = pytrends.get_historical_interest(['hertz network'], \n",
    "                                 year_start=2021, \n",
    "                                 month_start=10, \n",
    "                                 day_start=14, \n",
    "                                 hour_start=0, \n",
    "                                 year_end=2021, \n",
    "                                 month_end=11, \n",
    "                                 day_end=14, \n",
    "                                 hour_end=19, \n",
    "                                 cat=0, \n",
    "                                 geo='', \n",
    "                                 gprop='', \n",
    "                                 sleep=60)\n",
    "print(data)"
   ]
  },
  {
   "cell_type": "code",
   "execution_count": null,
   "metadata": {},
   "outputs": [],
   "source": [
    "#data = pytrends.interest_over_time()\n",
    "data.drop('isPartial', axis=1)\n",
    "plt.figure(kw)\n",
    "plt.plot(data)\n",
    "plt.plot(data.rolling(10).mean())\n",
    "plt.legend(all_keywords[kw])\n",
    "\n",
    "plt.xlabel(\"Date & Time\")\n",
    "plt.ylabel(\"Interest\")\n",
    "plt.show(block=False)"
   ]
  },
  {
   "cell_type": "code",
   "execution_count": null,
   "metadata": {},
   "outputs": [],
   "source": []
  }
 ],
 "metadata": {
  "kernelspec": {
   "display_name": "Python 3",
   "language": "python",
   "name": "python3"
  },
  "language_info": {
   "codemirror_mode": {
    "name": "ipython",
    "version": 3
   },
   "file_extension": ".py",
   "mimetype": "text/x-python",
   "name": "python",
   "nbconvert_exporter": "python",
   "pygments_lexer": "ipython3",
   "version": "3.8.3"
  }
 },
 "nbformat": 4,
 "nbformat_minor": 4
}
