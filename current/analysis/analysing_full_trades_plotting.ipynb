{
 "cells": [
  {
   "cell_type": "code",
   "execution_count": 1,
   "metadata": {},
   "outputs": [],
   "source": [
    "from sys import displayhook\n",
    "from binance.client import Client\n",
    "from binance.enums import *\n",
    "import pandas as pd\n",
    "import time\n",
    "import datetime\n",
    "from sqlalchemy import create_engine\n",
    "import numpy as np\n",
    "import matplotlib.pyplot as plt\n",
    "import pickle as pkl\n",
    "import seaborn as sns\n",
    "\n",
    "api_key = 'ihvXWbHvvDrYuroIJOS9ANW6X7tv5OQSYibLLloKyIGui0w93Q5yUJOBZclnNL5D'\n",
    "api_secret = 'uzmKBJ3lmVS4TsTl2AOHVJOYTFfLM5qrg00vAqUyTYbSjiy7BDPlTpaq2Oy7qdo2'\n",
    "client = Client(api_key, api_secret)\n",
    "\n",
    "db_data = 'mysql+mysqldb://' + 'admin' + ':' + '0323A8E3DB' + '@' + 'coin-database-1-instance-1.c9hqcydvu19f.us-east-1.rds.amazonaws.com' + ':3306/' + 'crypto_db' + '?charset=utf8mb4'\n",
    "engine = create_engine(db_data)\n",
    "\n",
    "cryptoString = 'SELECT * FROM crypto'\n",
    "crypto_table = pd.read_sql_query(cryptoString, engine)\n",
    "tickerdict = pd.Series(crypto_table.ticker.values,index=crypto_table.id).to_dict()"
   ]
  },
  {
   "cell_type": "code",
   "execution_count": 2,
   "metadata": {},
   "outputs": [],
   "source": [
    "# start_string_close = \"2022-03-01 12:00:00\" \n",
    "# start_string = \"2022-03-01 14:00:00\"\n",
    "# end_string = \"2022-04-15 21:00:00\"\n",
    "# start_date = datetime.datetime.strptime(start_string, '%Y-%m-%d %H:%M:%S')\n",
    "# end_date = datetime.datetime.strptime(end_string, '%Y-%m-%d %H:%M:%S')\n",
    "\n",
    "# new_close_string = f\"SELECT crypto_id, date, close FROM crypto_price WHERE date >= '{start_string_close}' AND date <= '{end_string}' ORDER BY date\"\n",
    "# closes_all = pd.read_sql_query(new_close_string, engine)\n",
    "\n",
    "# closes_all.to_pickle(\"./pickles/closes_all_110322_030422.pkl\")\n",
    "\n",
    "# new_trends_string = f\"SELECT * FROM crypto_trend WHERE date_request > '{start_string}' AND date_request < '{end_string}' ORDER BY date_request, crypto_id, date\"\n",
    "# new_trends_all = pd.read_sql_query(new_trends_string, engine)\n",
    "\n",
    "# new_trends_all.to_pickle(\"./pickles/new_trends_all_010322_150422.pkl\") "
   ]
  },
  {
   "cell_type": "code",
   "execution_count": 3,
   "metadata": {},
   "outputs": [],
   "source": [
    "closes_all = pd.read_pickle(\"./pickles/closes_all_010322_150422.pkl\")\n",
    "new_trends_all = pd.read_pickle(\"./pickles/new_trends_all_010322_150422.pkl\") "
   ]
  },
  {
   "cell_type": "code",
   "execution_count": 4,
   "metadata": {},
   "outputs": [],
   "source": [
    "with open('./pickles/output_results_2204.pickle', 'rb') as handle:\n",
    "    output_results = pkl.load(handle)"
   ]
  },
  {
   "cell_type": "code",
   "execution_count": 5,
   "metadata": {},
   "outputs": [],
   "source": [
    "output_results_todf = []\n",
    "\n",
    "for x in range(len(output_results)):\n",
    "    for y in range(len(output_results[x][1])):\n",
    "        output_results_todf.append( [output_results[x][0][0], output_results[x][0][1] ] + list(output_results[x][1][y]) )"
   ]
  },
  {
   "cell_type": "code",
   "execution_count": 6,
   "metadata": {},
   "outputs": [],
   "source": [
    "df = pd.DataFrame(output_results_todf)\n",
    "df.rename(columns={0: 'sbuy', 1: 'ssell', 2: 'id', 3: 'tbuy', 4: 'tsell', 5: 'pbuy', 6: 'psell', 7: 'ret',}, inplace=True)"
   ]
  },
  {
   "cell_type": "code",
   "execution_count": 7,
   "metadata": {},
   "outputs": [],
   "source": [
    "df_group = df.groupby(['id', 'tbuy', 'tsell']).max().sort_values(by=['id', 'tbuy'], ascending=[True, False])"
   ]
  },
  {
   "cell_type": "code",
   "execution_count": 8,
   "metadata": {},
   "outputs": [
    {
     "data": {
      "text/plain": [
       "array([1, Timestamp('2022-03-31 02:00:00'),\n",
       "       Timestamp('2022-03-31 03:00:00'), 80, 80, 1.904, 1.896,\n",
       "       0.9957983193277311], dtype=object)"
      ]
     },
     "execution_count": 8,
     "metadata": {},
     "output_type": "execute_result"
    }
   ],
   "source": [
    "arr = np.array(df_group.reset_index())\n",
    "arr[0]"
   ]
  },
  {
   "cell_type": "code",
   "execution_count": 10,
   "metadata": {},
   "outputs": [],
   "source": [
    "def numpy_ewma_vectorized(data, window):\n",
    "\n",
    "    alpha = 2 /(window + 1.0)\n",
    "    alpha_rev = 1-alpha\n",
    "\n",
    "    scale = 1/alpha_rev\n",
    "    n = data.shape[0]\n",
    "\n",
    "    r = np.arange(n)\n",
    "    scale_arr = scale**r\n",
    "    offset = data[0]*alpha_rev**(r+1)\n",
    "    pw0 = alpha*alpha_rev**(n-1)\n",
    "\n",
    "    mult = data*pw0*scale_arr\n",
    "    cumsums = mult.cumsum()\n",
    "    out = offset + cumsums*scale_arr[::-1]\n",
    "    return out"
   ]
  },
  {
   "cell_type": "code",
   "execution_count": 26,
   "metadata": {},
   "outputs": [
    {
     "name": "stderr",
     "output_type": "stream",
     "text": [
      "C:\\Users\\Public\\Documents\\Wondershare\\CreatorTemp\\ipykernel_6672\\1354611316.py:3: SettingWithCopyWarning: \n",
      "A value is trying to be set on a copy of a slice from a DataFrame.\n",
      "Try using .loc[row_indexer,col_indexer] = value instead\n",
      "\n",
      "See the caveats in the documentation: https://pandas.pydata.org/pandas-docs/stable/user_guide/indexing.html#returning-a-view-versus-a-copy\n",
      "  close['ewma'] = close['close'].ewm(span=windowSize, min_periods=windowSize).mean().values\n"
     ]
    }
   ],
   "source": [
    "windowSize = 20\n",
    "\n"
   ]
  },
  {
   "cell_type": "code",
   "execution_count": 32,
   "metadata": {},
   "outputs": [],
   "source": [
    "pd.options.mode.chained_assignment = None\n",
    "id = 1\n",
    "for id in list(set(arr[:,0]))[0:5]:\n",
    "#for id in [1]:\n",
    "    for trade in arr[(arr[:,0] == id)]:\n",
    "        buy_trends = new_trends_all.loc[(new_trends_all['date_request'] > str(trade[1])) & \n",
    "                                        (new_trends_all['date_request'] < str(trade[1] + datetime.timedelta(hours=1))) & \n",
    "                                        (new_trends_all['crypto_id'] == id)]\n",
    "        sell_trends = new_trends_all.loc[(new_trends_all['date_request'] > str(trade[2])) & \n",
    "                                        (new_trends_all['date_request'] < str(trade[2] + datetime.timedelta(hours=1))) & \n",
    "                                        (new_trends_all['crypto_id'] == id)]\n",
    "\n",
    "        close = closes_all.loc[(closes_all['date'] >= str(trade[1] - datetime.timedelta(hours=10))) & \n",
    "                                        (closes_all['date'] <= str(trade[1] + datetime.timedelta(hours=10))) & \n",
    "                                        (closes_all['crypto_id'] == id)]\n",
    "        close['ewma'] = close['close'].ewm(span=windowSize, min_periods=windowSize).mean()\n",
    "\n",
    "        if buy_trends.empty:\n",
    "            print(f\"buy empty for {trade}\")\n",
    "            continue\n",
    "        if sell_trends.empty:\n",
    "            print(f\"sell empty for {trade}\")\n",
    "            continue\n",
    "        if close.empty:\n",
    "            print(f\"close empty for {trade}\")\n",
    "            continue\n",
    "\n",
    "        # Figure setup\n",
    "        fig, (ax0, ax1, ax2) = plt.subplots(3, 1, figsize=(16,16), constrained_layout=True, gridspec_kw={'height_ratios': [1, 1, 1.6]})\n",
    "\n",
    "        ax0.axhline(y = buy_trends[buy_trends['hype'] !=0]['hype'].quantile(0.75), color = 'lavender', label = '75% NZ')\n",
    "        ax0.axhline(y = buy_trends['hype'].quantile(0.75), color = 'lightsteelblue', label = '75%')\n",
    "\n",
    "        # Plotting buy\n",
    "        buy_trends.plot( x = 'date', y='hype' , label='buy trend'  , color='g', ax = ax0)\n",
    "        ax0.axvline(x = buy_trends[buy_trends['hype'] == 100]['date'].item(), color = 'b', label = '100')\n",
    "        \n",
    "        ax0.legend()\n",
    "        ax0.set_title('buy ind')\n",
    "\n",
    "        # Plotting Sell\n",
    "        sell_trends.plot(x = 'date', y='hype' , legend='buy trend'  , color='r'       , ax = ax1)\n",
    "        ax1.set_title('sell ind')\n",
    "\n",
    "        # Plotting close \n",
    "        close.plot(      x = 'date', y=['close', 'ewma'], legend='close price', color=['fuchsia', 'coral']    , ax = ax2)\n",
    "        ax2.axvline(x = buy_trends[buy_trends['hype'] == 100]['date'].item(), color = 'b', label = '100')\n",
    "        ax2.axvline(x = buy_trends.iloc[0]['date_request'], color = 'g', label = 'buy')\n",
    "        ax2.axvline(x = sell_trends.iloc[0]['date_request'], color = 'r', label = 'sell')\n",
    "        ax2.legend()\n",
    "        ax2.set_title('close')\n",
    "\n",
    "        fig.suptitle(f'Buy, Sell indicator & close for coin {tickerdict[id]}. P/L = {trade[7]}', fontsize=16)\n",
    "\n",
    "        if trade[7] > 1:\n",
    "            pl = \"P\"\n",
    "            fig.savefig(f\"./plots/p/{tickerdict[id]}-{buy_trends.iloc[0]['date_request'].strftime('D%Y_%m_%dT%H_%M_%S')}-{sell_trends.iloc[0]['date_request'].strftime('D%Y_%m_%dT%H_%M_%S')}-{pl}.png\")\n",
    "\n",
    "        else:\n",
    "            pl = \"L\"\n",
    "            fig.savefig(f\"./plots/l/{tickerdict[id]}-{buy_trends.iloc[0]['date_request'].strftime('D%Y_%m_%dT%H_%M_%S')}-{sell_trends.iloc[0]['date_request'].strftime('D%Y_%m_%dT%H_%M_%S')}-{pl}.png\")\n",
    "\n",
    "        plt.close()"
   ]
  },
  {
   "cell_type": "code",
   "execution_count": null,
   "metadata": {},
   "outputs": [
    {
     "data": {
      "text/plain": [
       "False"
      ]
     },
     "execution_count": 150,
     "metadata": {},
     "output_type": "execute_result"
    }
   ],
   "source": [
    "buy_trends.empty"
   ]
  },
  {
   "cell_type": "code",
   "execution_count": null,
   "metadata": {},
   "outputs": [
    {
     "data": {
      "text/html": [
       "<div>\n",
       "<style scoped>\n",
       "    .dataframe tbody tr th:only-of-type {\n",
       "        vertical-align: middle;\n",
       "    }\n",
       "\n",
       "    .dataframe tbody tr th {\n",
       "        vertical-align: top;\n",
       "    }\n",
       "\n",
       "    .dataframe thead th {\n",
       "        text-align: right;\n",
       "    }\n",
       "</style>\n",
       "<table border=\"1\" class=\"dataframe\">\n",
       "  <thead>\n",
       "    <tr style=\"text-align: right;\">\n",
       "      <th></th>\n",
       "      <th>crypto_id</th>\n",
       "      <th>date_request</th>\n",
       "      <th>date</th>\n",
       "      <th>hype</th>\n",
       "    </tr>\n",
       "  </thead>\n",
       "  <tbody>\n",
       "    <tr>\n",
       "      <th>0</th>\n",
       "      <td>101</td>\n",
       "      <td>2022-03-11 14:02:03</td>\n",
       "      <td>2022-03-04 15:00:00</td>\n",
       "      <td>82.0</td>\n",
       "    </tr>\n",
       "    <tr>\n",
       "      <th>1</th>\n",
       "      <td>101</td>\n",
       "      <td>2022-03-11 14:02:03</td>\n",
       "      <td>2022-03-04 16:00:00</td>\n",
       "      <td>88.0</td>\n",
       "    </tr>\n",
       "    <tr>\n",
       "      <th>2</th>\n",
       "      <td>101</td>\n",
       "      <td>2022-03-11 14:02:03</td>\n",
       "      <td>2022-03-04 17:00:00</td>\n",
       "      <td>90.0</td>\n",
       "    </tr>\n",
       "    <tr>\n",
       "      <th>3</th>\n",
       "      <td>101</td>\n",
       "      <td>2022-03-11 14:02:03</td>\n",
       "      <td>2022-03-04 18:00:00</td>\n",
       "      <td>87.0</td>\n",
       "    </tr>\n",
       "    <tr>\n",
       "      <th>4</th>\n",
       "      <td>101</td>\n",
       "      <td>2022-03-11 14:02:03</td>\n",
       "      <td>2022-03-04 19:00:00</td>\n",
       "      <td>89.0</td>\n",
       "    </tr>\n",
       "    <tr>\n",
       "      <th>...</th>\n",
       "      <td>...</td>\n",
       "      <td>...</td>\n",
       "      <td>...</td>\n",
       "      <td>...</td>\n",
       "    </tr>\n",
       "    <tr>\n",
       "      <th>28484623</th>\n",
       "      <td>304</td>\n",
       "      <td>2022-04-03 20:11:44</td>\n",
       "      <td>2022-04-03 16:00:00</td>\n",
       "      <td>80.0</td>\n",
       "    </tr>\n",
       "    <tr>\n",
       "      <th>28484624</th>\n",
       "      <td>304</td>\n",
       "      <td>2022-04-03 20:11:44</td>\n",
       "      <td>2022-04-03 17:00:00</td>\n",
       "      <td>58.0</td>\n",
       "    </tr>\n",
       "    <tr>\n",
       "      <th>28484625</th>\n",
       "      <td>304</td>\n",
       "      <td>2022-04-03 20:11:44</td>\n",
       "      <td>2022-04-03 18:00:00</td>\n",
       "      <td>39.0</td>\n",
       "    </tr>\n",
       "    <tr>\n",
       "      <th>28484626</th>\n",
       "      <td>304</td>\n",
       "      <td>2022-04-03 20:11:44</td>\n",
       "      <td>2022-04-03 19:00:00</td>\n",
       "      <td>47.0</td>\n",
       "    </tr>\n",
       "    <tr>\n",
       "      <th>28484627</th>\n",
       "      <td>304</td>\n",
       "      <td>2022-04-03 20:11:44</td>\n",
       "      <td>2022-04-03 20:00:00</td>\n",
       "      <td>52.0</td>\n",
       "    </tr>\n",
       "  </tbody>\n",
       "</table>\n",
       "<p>28484628 rows × 4 columns</p>\n",
       "</div>"
      ],
      "text/plain": [
       "          crypto_id        date_request                date  hype\n",
       "0               101 2022-03-11 14:02:03 2022-03-04 15:00:00  82.0\n",
       "1               101 2022-03-11 14:02:03 2022-03-04 16:00:00  88.0\n",
       "2               101 2022-03-11 14:02:03 2022-03-04 17:00:00  90.0\n",
       "3               101 2022-03-11 14:02:03 2022-03-04 18:00:00  87.0\n",
       "4               101 2022-03-11 14:02:03 2022-03-04 19:00:00  89.0\n",
       "...             ...                 ...                 ...   ...\n",
       "28484623        304 2022-04-03 20:11:44 2022-04-03 16:00:00  80.0\n",
       "28484624        304 2022-04-03 20:11:44 2022-04-03 17:00:00  58.0\n",
       "28484625        304 2022-04-03 20:11:44 2022-04-03 18:00:00  39.0\n",
       "28484626        304 2022-04-03 20:11:44 2022-04-03 19:00:00  47.0\n",
       "28484627        304 2022-04-03 20:11:44 2022-04-03 20:00:00  52.0\n",
       "\n",
       "[28484628 rows x 4 columns]"
      ]
     },
     "execution_count": 146,
     "metadata": {},
     "output_type": "execute_result"
    }
   ],
   "source": [
    "new_trends_all"
   ]
  },
  {
   "cell_type": "code",
   "execution_count": null,
   "metadata": {},
   "outputs": [
    {
     "data": {
      "text/plain": [
       "Timestamp('2022-03-11 04:00:00')"
      ]
     },
     "execution_count": 145,
     "metadata": {},
     "output_type": "execute_result"
    }
   ],
   "source": [
    "trade[1]"
   ]
  },
  {
   "cell_type": "code",
   "execution_count": null,
   "metadata": {},
   "outputs": [],
   "source": [
    "df.iloc[2]['No_Of_Units']"
   ]
  },
  {
   "cell_type": "code",
   "execution_count": null,
   "metadata": {},
   "outputs": [
    {
     "ename": "KeyError",
     "evalue": "100",
     "output_type": "error",
     "traceback": [
      "\u001b[1;31m---------------------------------------------------------------------------\u001b[0m",
      "\u001b[1;31mKeyError\u001b[0m                                  Traceback (most recent call last)",
      "\u001b[1;32mc:\\Users\\ellio\\work\\Crypto Project\\current\\analysis\\analysing_full_trades_plotting.ipynb Cell 11'\u001b[0m in \u001b[0;36m<cell line: 1>\u001b[1;34m()\u001b[0m\n\u001b[1;32m----> <a href='vscode-notebook-cell:/c%3A/Users/ellio/work/Crypto%20Project/current/analysis/analysing_full_trades_plotting.ipynb#ch0000016?line=0'>1</a>\u001b[0m buy_trends\u001b[39m.\u001b[39;49mat[\u001b[39m100\u001b[39;49m, \u001b[39m'\u001b[39;49m\u001b[39mhype\u001b[39;49m\u001b[39m'\u001b[39;49m]\n",
      "File \u001b[1;32m~\\anaconda3\\lib\\site-packages\\pandas\\core\\indexing.py:2275\u001b[0m, in \u001b[0;36m_AtIndexer.__getitem__\u001b[1;34m(self, key)\u001b[0m\n\u001b[0;32m   <a href='file:///c%3A/Users/ellio/anaconda3/lib/site-packages/pandas/core/indexing.py?line=2271'>2272</a>\u001b[0m         \u001b[39mraise\u001b[39;00m \u001b[39mValueError\u001b[39;00m(\u001b[39m\"\u001b[39m\u001b[39mInvalid call for scalar access (getting)!\u001b[39m\u001b[39m\"\u001b[39m)\n\u001b[0;32m   <a href='file:///c%3A/Users/ellio/anaconda3/lib/site-packages/pandas/core/indexing.py?line=2272'>2273</a>\u001b[0m     \u001b[39mreturn\u001b[39;00m \u001b[39mself\u001b[39m\u001b[39m.\u001b[39mobj\u001b[39m.\u001b[39mloc[key]\n\u001b[1;32m-> <a href='file:///c%3A/Users/ellio/anaconda3/lib/site-packages/pandas/core/indexing.py?line=2274'>2275</a>\u001b[0m \u001b[39mreturn\u001b[39;00m \u001b[39msuper\u001b[39;49m()\u001b[39m.\u001b[39;49m\u001b[39m__getitem__\u001b[39;49m(key)\n",
      "File \u001b[1;32m~\\anaconda3\\lib\\site-packages\\pandas\\core\\indexing.py:2222\u001b[0m, in \u001b[0;36m_ScalarAccessIndexer.__getitem__\u001b[1;34m(self, key)\u001b[0m\n\u001b[0;32m   <a href='file:///c%3A/Users/ellio/anaconda3/lib/site-packages/pandas/core/indexing.py?line=2218'>2219</a>\u001b[0m         \u001b[39mraise\u001b[39;00m \u001b[39mValueError\u001b[39;00m(\u001b[39m\"\u001b[39m\u001b[39mInvalid call for scalar access (getting)!\u001b[39m\u001b[39m\"\u001b[39m)\n\u001b[0;32m   <a href='file:///c%3A/Users/ellio/anaconda3/lib/site-packages/pandas/core/indexing.py?line=2220'>2221</a>\u001b[0m key \u001b[39m=\u001b[39m \u001b[39mself\u001b[39m\u001b[39m.\u001b[39m_convert_key(key)\n\u001b[1;32m-> <a href='file:///c%3A/Users/ellio/anaconda3/lib/site-packages/pandas/core/indexing.py?line=2221'>2222</a>\u001b[0m \u001b[39mreturn\u001b[39;00m \u001b[39mself\u001b[39;49m\u001b[39m.\u001b[39;49mobj\u001b[39m.\u001b[39;49m_get_value(\u001b[39m*\u001b[39;49mkey, takeable\u001b[39m=\u001b[39;49m\u001b[39mself\u001b[39;49m\u001b[39m.\u001b[39;49m_takeable)\n",
      "File \u001b[1;32m~\\anaconda3\\lib\\site-packages\\pandas\\core\\frame.py:3579\u001b[0m, in \u001b[0;36mDataFrame._get_value\u001b[1;34m(self, index, col, takeable)\u001b[0m\n\u001b[0;32m   <a href='file:///c%3A/Users/ellio/anaconda3/lib/site-packages/pandas/core/frame.py?line=3575'>3576</a>\u001b[0m     \u001b[39mreturn\u001b[39;00m \u001b[39mself\u001b[39m\u001b[39m.\u001b[39m_get_value(index, col, takeable\u001b[39m=\u001b[39m\u001b[39mTrue\u001b[39;00m)\n\u001b[0;32m   <a href='file:///c%3A/Users/ellio/anaconda3/lib/site-packages/pandas/core/frame.py?line=3577'>3578</a>\u001b[0m \u001b[39mtry\u001b[39;00m:\n\u001b[1;32m-> <a href='file:///c%3A/Users/ellio/anaconda3/lib/site-packages/pandas/core/frame.py?line=3578'>3579</a>\u001b[0m     loc \u001b[39m=\u001b[39m engine\u001b[39m.\u001b[39;49mget_loc(index)\n\u001b[0;32m   <a href='file:///c%3A/Users/ellio/anaconda3/lib/site-packages/pandas/core/frame.py?line=3579'>3580</a>\u001b[0m     \u001b[39mreturn\u001b[39;00m series\u001b[39m.\u001b[39m_values[loc]\n\u001b[0;32m   <a href='file:///c%3A/Users/ellio/anaconda3/lib/site-packages/pandas/core/frame.py?line=3580'>3581</a>\u001b[0m \u001b[39mexcept\u001b[39;00m \u001b[39mAttributeError\u001b[39;00m:\n\u001b[0;32m   <a href='file:///c%3A/Users/ellio/anaconda3/lib/site-packages/pandas/core/frame.py?line=3581'>3582</a>\u001b[0m     \u001b[39m# IntervalTree has no get_loc\u001b[39;00m\n",
      "File \u001b[1;32m~\\anaconda3\\lib\\site-packages\\pandas\\_libs\\index.pyx:76\u001b[0m, in \u001b[0;36mpandas._libs.index.IndexEngine.get_loc\u001b[1;34m()\u001b[0m\n",
      "File \u001b[1;32m~\\anaconda3\\lib\\site-packages\\pandas\\_libs\\index.pyx:108\u001b[0m, in \u001b[0;36mpandas._libs.index.IndexEngine.get_loc\u001b[1;34m()\u001b[0m\n",
      "File \u001b[1;32mpandas\\_libs\\hashtable_class_helper.pxi:2131\u001b[0m, in \u001b[0;36mpandas._libs.hashtable.Int64HashTable.get_item\u001b[1;34m()\u001b[0m\n",
      "File \u001b[1;32mpandas\\_libs\\hashtable_class_helper.pxi:2140\u001b[0m, in \u001b[0;36mpandas._libs.hashtable.Int64HashTable.get_item\u001b[1;34m()\u001b[0m\n",
      "\u001b[1;31mKeyError\u001b[0m: 100"
     ]
    }
   ],
   "source": [
    "buy_trends.at[100, 'hype']"
   ]
  },
  {
   "cell_type": "code",
   "execution_count": null,
   "metadata": {},
   "outputs": [
    {
     "data": {
      "text/plain": [
       "Timestamp('2022-04-14 20:00:00')"
      ]
     },
     "execution_count": 159,
     "metadata": {},
     "output_type": "execute_result"
    }
   ],
   "source": [
    "df['tsell'].max()"
   ]
  },
  {
   "cell_type": "code",
   "execution_count": null,
   "metadata": {},
   "outputs": [],
   "source": [
    "ax0.axvline(x = buy_trends[buy_trends['hype'] == 100][['date']], color = 'b', label = 'buy')"
   ]
  },
  {
   "cell_type": "code",
   "execution_count": null,
   "metadata": {},
   "outputs": [
    {
     "data": {
      "text/plain": [
       "array([1, Timestamp('2022-03-31 02:00:00'),\n",
       "       Timestamp('2022-03-31 03:00:00'), 80, 80, 1.904, 1.896,\n",
       "       0.9957983193277311], dtype=object)"
      ]
     },
     "execution_count": 27,
     "metadata": {},
     "output_type": "execute_result"
    }
   ],
   "source": [
    "trade[5]"
   ]
  },
  {
   "cell_type": "code",
   "execution_count": null,
   "metadata": {},
   "outputs": [
    {
     "data": {
      "text/plain": [
       "Timestamp('2022-03-31 03:02:04')"
      ]
     },
     "execution_count": 54,
     "metadata": {},
     "output_type": "execute_result"
    }
   ],
   "source": [
    "sell_trends.iloc[0]['date_request']"
   ]
  },
  {
   "cell_type": "code",
   "execution_count": null,
   "metadata": {},
   "outputs": [
    {
     "data": {
      "text/plain": [
       "1.852"
      ]
     },
     "execution_count": 28,
     "metadata": {},
     "output_type": "execute_result"
    }
   ],
   "source": [
    "np.interp(1.904, close['date'], close['close'])"
   ]
  }
 ],
 "metadata": {
  "interpreter": {
   "hash": "af8704e19de21468eae1093621a2c8b6a787155c45e4386acc9bc35f30ec814d"
  },
  "kernelspec": {
   "display_name": "Python 3.8.12 ('base')",
   "language": "python",
   "name": "python3"
  },
  "language_info": {
   "codemirror_mode": {
    "name": "ipython",
    "version": 3
   },
   "file_extension": ".py",
   "mimetype": "text/x-python",
   "name": "python",
   "nbconvert_exporter": "python",
   "pygments_lexer": "ipython3",
   "version": "3.8.12"
  },
  "orig_nbformat": 4
 },
 "nbformat": 4,
 "nbformat_minor": 2
}
