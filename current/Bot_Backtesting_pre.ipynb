{
 "cells": [
  {
   "cell_type": "markdown",
   "metadata": {},
   "source": [
    "## Generating close data"
   ]
  },
  {
   "cell_type": "markdown",
   "metadata": {},
   "source": [
    "Importing libraries"
   ]
  },
  {
   "cell_type": "code",
   "execution_count": 1,
   "metadata": {},
   "outputs": [],
   "source": [
    "from sqlalchemy import create_engine\n",
    "from binance.client import Client\n",
    "import pymysql\n",
    "import pandas as pd\n",
    "import datetime\n",
    "import numpy as np\n",
    "import pickle\n",
    "import random"
   ]
  },
  {
   "cell_type": "markdown",
   "metadata": {},
   "source": [
    "Connecting to Database"
   ]
  },
  {
   "cell_type": "code",
   "execution_count": 2,
   "metadata": {},
   "outputs": [],
   "source": [
    "api_key = 'ihvXWbHvvDrYuroIJOS9ANW6X7tv5OQSYibLLloKyIGui0w93Q5yUJOBZclnNL5D'\n",
    "api_secret = 'uzmKBJ3lmVS4TsTl2AOHVJOYTFfLM5qrg00vAqUyTYbSjiy7BDPlTpaq2Oy7qdo2'\n",
    "client = Client(api_key, api_secret)\n",
    "\n",
    "db_data = 'mysql+mysqldb://' + 'admin' + ':' + '0323A8E3DB' + '@' + 'coin-database-1-instance-1.c9hqcydvu19f.us-east-1.rds.amazonaws.com' + ':3306/' + 'crypto_db' + '?charset=utf8mb4'\n",
    "engine = create_engine(db_data)"
   ]
  },
  {
   "cell_type": "markdown",
   "metadata": {},
   "source": [
    "Function to fetch coin data"
   ]
  },
  {
   "cell_type": "code",
   "execution_count": 3,
   "metadata": {},
   "outputs": [],
   "source": [
    "def getminutedata(symbol, start, end):\n",
    "    frame = pd.DataFrame(client.get_historical_klines(symbol, Client.KLINE_INTERVAL_15MINUTE, start, end))\n",
    "    frame = frame.iloc[:,:6]                                                    \n",
    "    frame.columns = ['date', 'open', 'high', 'low', 'close', 'volume']\n",
    "    frame = frame.set_index('date')\n",
    "    frame.index = pd.to_datetime(frame.index, unit= 'ms')\n",
    "    frame = frame.astype(float)\n",
    "    return frame.reset_index()"
   ]
  },
  {
   "cell_type": "markdown",
   "metadata": {},
   "source": [
    "Fetching crypto_table and id_list from database"
   ]
  },
  {
   "cell_type": "code",
   "execution_count": 4,
   "metadata": {},
   "outputs": [],
   "source": [
    "cryptoString = 'SELECT * FROM crypto'\n",
    "crypto_table = pd.read_sql_query(cryptoString, engine)\n",
    "full_id_list = crypto_table.id.astype(int).tolist()\n",
    "full_id_list.remove(226)"
   ]
  },
  {
   "cell_type": "markdown",
   "metadata": {},
   "source": [
    "Find most recent date in price table"
   ]
  },
  {
   "cell_type": "code",
   "execution_count": 5,
   "metadata": {},
   "outputs": [],
   "source": [
    "dateString = \"SELECT MAX(date) FROM crypto_price\"\n",
    "recentDate = pd.read_sql_query(dateString, engine)\n",
    "resentTimestamp = recentDate.at[0, 'MAX(date)']"
   ]
  },
  {
   "cell_type": "code",
   "execution_count": null,
   "metadata": {},
   "outputs": [],
   "source": [
    "resentTimestamp =  datetime.datetime(2022, 2, 26, 00, 00, 00)"
   ]
  },
  {
   "cell_type": "markdown",
   "metadata": {},
   "source": [
    "Update Crypto Price table to current date"
   ]
  },
  {
   "cell_type": "code",
   "execution_count": 10,
   "metadata": {},
   "outputs": [],
   "source": [
    "start_string = str(resentTimestamp + datetime.timedelta(minutes = 15))\n",
    "end_string = datetime.datetime.now().strftime(\"%Y-%m-%d %H:00:00\")\n",
    "\n",
    "for id in full_id_list:\n",
    "    try:\n",
    "        df = getminutedata(crypto_table.loc[crypto_table['id'] == id]['ticker'].values[0], start_string, end_string)\n",
    "        df['crypto_id'] = id\n",
    "    except:\n",
    "        continue\n",
    "    #print(df)\n",
    "\n",
    "    df.to_sql(\"crypto_price\", engine, if_exists=\"append\", index=False)\n"
   ]
  },
  {
   "cell_type": "code",
   "execution_count": 8,
   "metadata": {},
   "outputs": [
    {
     "data": {
      "text/plain": [
       "20"
      ]
     },
     "execution_count": 8,
     "metadata": {},
     "output_type": "execute_result"
    }
   ],
   "source": [
    "full_id_list.index(id)"
   ]
  },
  {
   "cell_type": "markdown",
   "metadata": {},
   "source": [
    "Updating Ticker"
   ]
  },
  {
   "cell_type": "code",
   "execution_count": null,
   "metadata": {},
   "outputs": [
    {
     "data": {
      "text/plain": [
       "225    RGTUSDT\n",
       "Name: ticker, dtype: object"
      ]
     },
     "metadata": {},
     "output_type": "display_data"
    }
   ],
   "source": [
    "id_update = 226\n",
    "crypto_table.loc[crypto_table['id'] == id_update]['ticker']"
   ]
  }
 ],
 "metadata": {
  "interpreter": {
   "hash": "f4d0259107f51ae7c300a0730da527b49f9214f17e1b18bf896f8b8648417978"
  },
  "kernelspec": {
   "display_name": "Python 3.8.12 ('base')",
   "language": "python",
   "name": "python3"
  },
  "language_info": {
   "codemirror_mode": {
    "name": "ipython",
    "version": 3
   },
   "file_extension": ".py",
   "mimetype": "text/x-python",
   "name": "python",
   "nbconvert_exporter": "python",
   "pygments_lexer": "ipython3",
   "version": "3.8.12"
  },
  "orig_nbformat": 4
 },
 "nbformat": 4,
 "nbformat_minor": 2
}
