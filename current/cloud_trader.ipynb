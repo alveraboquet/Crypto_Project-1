{
 "cells": [
  {
   "cell_type": "code",
   "execution_count": 2,
   "metadata": {},
   "outputs": [],
   "source": [
    "from binance.client import Client\n",
    "from binance.enums import *\n",
    "import pandas as pd\n",
    "import datetime\n",
    "from sqlalchemy import create_engine"
   ]
  },
  {
   "cell_type": "code",
   "execution_count": null,
   "metadata": {},
   "outputs": [],
   "source": [
    "api_key = 'ihvXWbHvvDrYuroIJOS9ANW6X7tv5OQSYibLLloKyIGui0w93Q5yUJOBZclnNL5D'\n",
    "api_secret = 'uzmKBJ3lmVS4TsTl2AOHVJOYTFfLM5qrg00vAqUyTYbSjiy7BDPlTpaq2Oy7qdo2'\n",
    "client = Client(api_key, api_secret)\n",
    "\n",
    "def getminutedata(symbol, interval, start):\n",
    "    frame = pd.DataFrame(client.get_historical_klines(symbol,\n",
    "                                                        interval,\n",
    "                                                        start + ' min ago UTC'))\n",
    "    frame = frame.iloc[:,:6]                                                    \n",
    "    frame.columns = ['Time', 'Open', 'High', 'Low', 'Close', 'Volume']\n",
    "    frame = frame.set_index('Time')\n",
    "    frame.index = pd.to_datetime(frame.index, unit= 'ms')\n",
    "    frame = frame.astype(float)\n",
    "    return frame.reset_index()"
   ]
  },
  {
   "cell_type": "code",
   "execution_count": null,
   "metadata": {},
   "outputs": [],
   "source": [
    "value = getminutedata(artifact_table.iloc[artifact_id]['ticker'], \n",
    "                                    '15m',\n",
    "                                    '120')\n",
    "close = value[['Time','Close']]                             \n",
    "close.index = pd.to_datetime(close['Time'])\n",
    "close = close.drop(columns=['Time'])\n",
    "close = close.rename(columns={\"Close\": f\"{artifact_id}\"})"
   ]
  },
  {
   "cell_type": "code",
   "execution_count": 3,
   "metadata": {},
   "outputs": [],
   "source": [
    "from sqlalchemy import create_engine\n",
    "db_data = 'mysql+mysqldb://' + 'admin' + ':' + '0323A8E3DB' + '@' + 'coin-database-1-instance-1.c9hqcydvu19f.us-east-1.rds.amazonaws.com' + ':3306/' + 'crypto_db' + '?charset=utf8mb4'\n",
    "engine = create_engine(db_data)\n",
    "\n",
    "cryptoString = 'SELECT * FROM crypto'\n",
    "crypto_table = pd.read_sql_query(cryptoString, engine)"
   ]
  },
  {
   "cell_type": "code",
   "execution_count": 9,
   "metadata": {},
   "outputs": [],
   "source": [
    "trend_table_status = pd.read_sql_query(\"show table status like 'crypto_trend'\", engine)\n",
    "trend_table_rowcount = trend_table_status['Rows'].values[0]\n",
    "trend_table_rowcount"
   ]
  },
  {
   "cell_type": "code",
   "execution_count": 24,
   "metadata": {},
   "outputs": [],
   "source": [
    "check_date = pd.read_sql_query(\"SELECT MAX(date_request) FROM crypto_trend\", engine) \n",
    "date_recent_checked = str(check_date.iloc[0, 0])"
   ]
  },
  {
   "cell_type": "code",
   "execution_count": 25,
   "metadata": {},
   "outputs": [
    {
     "data": {
      "text/plain": [
       "'2022-03-02 13:13:00'"
      ]
     },
     "execution_count": 25,
     "metadata": {},
     "output_type": "execute_result"
    }
   ],
   "source": [
    "date_recent_checked"
   ]
  },
  {
   "cell_type": "code",
   "execution_count": null,
   "metadata": {},
   "outputs": [],
   "source": [
    "maxholds = 3\n",
    "trades = [[],[],[],[]]\n",
    "tradedata = []\n",
    "buyPrice  = [0] * (len(id_list))\n",
    "sellPrice = [0] * (len(id_list))\n",
    "tradeBuy  = [0] * (len(id_list))\n",
    "tradeSell = [0] * (len(id_list))\n",
    "buyTime   = [0] * (len(id_list))\n",
    "sellTime  = [0] * (len(id_list))\n",
    "holding = [False] * (len(id_list))\n",
    "buy_threshold = 80\n",
    "sell_threshold = 50"
   ]
  },
  {
   "cell_type": "code",
   "execution_count": null,
   "metadata": {},
   "outputs": [],
   "source": [
    "import time\n",
    "run = 1\n",
    "while (run == 1):\n",
    "    ##############             Bot Program             ##############\n",
    "    # Fetch ID close prices  & trend \n",
    "    trends, closes = fetch_data(id_list, artifact_table, crypto_table)\n",
    "    \n",
    "    # Fetch ID's for buy & sell indicator\n",
    "    indicate_buy, indicate_sell = fetch_signals(buy_threshold, sell_threshold, trends, closes)\n",
    "\n",
    "    #upload indicate buy and trends and closes to database\n",
    "\n",
    "\n",
    "    buy = np.logical_and( indicate_buy, np.logical_not(holding) )\n",
    "    buy_ids = [id_list[i] for i in [i for i, x in enumerate(buy) if x]]\n",
    "    if sum(buy) > 0:\n",
    "        print([trends.index[-1], buy_ids])\n",
    "    #print(buy_ids)\n",
    "    sell = np.logical_and(indicate_sell, holding)\n",
    "    sell_ids = [id_list[i] for i in [i for i, x in enumerate(sell) if x]]\n",
    "    #if sum(sell) > 0:\n",
    "    #    print([trends.index[-1], sell_ids])\n",
    "    #print(sell_ids)\n",
    "\n",
    "    # Buy control\n",
    "    if ((sum(holding) < maxholds) and buy_ids):\n",
    "        for id in reversed(buy_ids):\n",
    "            if (sum(holding) < maxholds):\n",
    "                key = id_list.index(id)\n",
    "                tradetime = closes.index[-1]\n",
    "                buyPrice[key] = closes.loc[tradetime,str(id)]\n",
    "                buyTime[key] = tradetime\n",
    "                holding[key] = True\n",
    "                # Buy execute function binance using ticker\n",
    "            else:\n",
    "                continue\n",
    "    # Sell control\n",
    "    if (sell_ids):\n",
    "        for id in sell_ids:\n",
    "            # Sell execute function binance using ticker\n",
    "            key = id_list.index(id)\n",
    "            tradetime = closes.index[-1]\n",
    "            sellPrice[key] = closes.loc[tradetime,str(id)]\n",
    "            sellTime[key] = tradetime\n",
    "            tradedata.append([id, buyTime[key], sellTime[key], buyPrice[key], sellPrice[key], (sellPrice[key]/buyPrice[key]) ])\n",
    "            holding[key] = False\n",
    "    print(\"Finished cycle \" + str(datetime.datetime.now()))\n",
    "    \n",
    "    run = 0\n",
    "    time.sleep(60*30*2)\n",
    "    # Calculate profit\n",
    "    # tradedata = np.array(tradedata)\n",
    "    # scaled = ((tradedata[:,5] - 1) * 1/maxholds) + 1\n",
    "    # scaled.prod()\n"
   ]
  }
 ],
 "metadata": {
  "interpreter": {
   "hash": "f4d0259107f51ae7c300a0730da527b49f9214f17e1b18bf896f8b8648417978"
  },
  "kernelspec": {
   "display_name": "Python 3.8.12 ('base')",
   "language": "python",
   "name": "python3"
  },
  "language_info": {
   "codemirror_mode": {
    "name": "ipython",
    "version": 3
   },
   "file_extension": ".py",
   "mimetype": "text/x-python",
   "name": "python",
   "nbconvert_exporter": "python",
   "pygments_lexer": "ipython3",
   "version": "3.8.12"
  },
  "orig_nbformat": 4
 },
 "nbformat": 4,
 "nbformat_minor": 2
}
