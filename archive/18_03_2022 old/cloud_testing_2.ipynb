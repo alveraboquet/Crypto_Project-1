{
 "cells": [
  {
   "cell_type": "code",
   "execution_count": 6,
   "metadata": {},
   "outputs": [],
   "source": [
    "import sqlite3 as sl\n",
    "import pandas as pd\n",
    "from datetime import datetime, timedelta\n",
    "import numpy as np\n",
    "import pickle\n",
    "import random\n",
    "\n",
    "header = {\n",
    "    'authority': 'trends.google.com',\n",
    "    'sec-ch-ua': '\"Chromium\";v=\"94\", \" Not A;Brand\";v=\"99\", \"Opera\";v=\"80\"',\n",
    "    'accept': 'application/json, text/plain, */*',\n",
    "    'sec-ch-ua-mobile': '?0',\n",
    "    'user-agent': 'Mozilla/5.0 (Windows NT 10.0; Win64; x64) AppleWebKit/537.36 (KHTML, like Gecko) Chrome/94.0.4606.81 Safari/537.36 OPR/80.0.4170.63',\n",
    "    'sec-ch-ua-platform': '\"Windows\"',\n",
    "    'sec-fetch-site': 'same-origin',\n",
    "    'sec-fetch-mode': 'cors',\n",
    "    'sec-fetch-dest': 'empty',\n",
    "    'referer': 'https://trends.google.com/trends/explore?q=mirror%20protocol',\n",
    "    'accept-language': 'en-GB,en-US;q=0.9,en;q=0.8',\n",
    "    'cookie': '__utmc=10102256; __utma=10102256.830189433.1636580671.1637612468.1637615437.6; __utmz=10102256.1637615437.6.4.utmcsr=google|utmccn=(organic)|utmcmd=organic|utmctr=(not%20provided); __utmt=1; __utmb=10102256.9.9.1637615792660; CONSENT=YES+GB.en-GB+V9+BX; SEARCH_SAMESITE=CgQImZMB; HSID=A0PbYKwoJWHkP2cLJ; SSID=ATw-D_CgCgaCnOMxq; APISID=hng8MXyBWur_w5fC/AurWCgPbsYDEtwkWm; SAPISID=vSGlu5opiC_3-Dav/Ak0loYtHrjyKusKXH; __Secure-1PAPISID=vSGlu5opiC_3-Dav/Ak0loYtHrjyKusKXH; __Secure-3PAPISID=vSGlu5opiC_3-Dav/Ak0loYtHrjyKusKXH; OGPC=19025836-2:; __Secure-1PSIDCC=AJi4QfHJF0V84yFFydIeqwcTavYgTxPKZTm4r-j92P2vuN691-chSFUrnLeYq4ccPLlok1ebJg; SID=EAgztJro1wlVbGdfzKYVqqxGYz9eHXx7y-0pWf9ljDCqShG7I4iq_DUrjYYzifOFgAkPdg.; __Secure-1PSID=EAgztJro1wlVbGdfzKYVqqxGYz9eHXx7y-0pWf9ljDCqShG7Arm0dTwN1pVkMU_W42hVkA.; __Secure-3PSID=EAgztJro1wlVbGdfzKYVqqxGYz9eHXx7y-0pWf9ljDCqShG7J8Mh2faUlqm65EfZ7UsPCQ.; NID=511=esdr8y2puX552h2JBc-TknP1obzsr3qLgSA0yeAV7DnfwAVYC251PzaCr4yYLsm0EyMjI7L7neOP6JTtPSHjnHgitlzfoWrzX7xcm8n8hB6wIeLNCMeECr-IhEQs3-ocHCofs6pbgR6LwfrvhIvF9WCClueXUX4FKGD3CQ14xkM9ikLu44rqvJjgYtyXfcwcFl3qpWZOKGfuY4Jz_Molfk7bNBlNNaNUe0CeMlei3I4dIkHbEBlAA6LW8vFhnIZyMWhCd2lVkAiy0c_FOaUUp7iCKPUj6RD-ddXs7X_j7X5-2DRkXkUZI5Cl8d-ZyyPWDGcnOtvPGwBiTGQ8o7tRxRMRMjjR_cnrR9TyMUIdYJ7F7cJmTl9GUqgZ-spxHWzUU0hlgmrdLErIBsTdXA; 1P_JAR=2021-11-22-21; SIDCC=AJi4QfHp9yLbArD3EA6819JHREwwDTB9vLz-bkPMpDjk7VY2Zh26Zb4JTNu7jl3FkmbY6CEZeL18; __Secure-3PSIDCC=AJi4QfEct8ZkJckjPrd7cpR-xm748VcgUsitncJ7DEkOKMdTbMOZSwaZbCxEyvinm2nCvqQ-3rQ3',\n",
    "}\n",
    "\n",
    "header1 = {\n",
    "    'authority': 'trends.google.com',\n",
    "    'sec-ch-ua': '\"Opera\";v=\"83\", \"Chromium\";v=\"97\", \";Not A Brand\";v=\"99\"',\n",
    "    'sec-ch-ua-mobile': '?0',\n",
    "    'sec-ch-ua-platform': '\"Windows\"',\n",
    "    'upgrade-insecure-requests': '1',\n",
    "    'user-agent': 'Mozilla/5.0 (Windows NT 10.0; Win64; x64) AppleWebKit/537.36 (KHTML, like Gecko) Chrome/97.0.4692.99 Safari/537.36 OPR/83.0.4254.27',\n",
    "    'accept': 'text/html,application/xhtml+xml,application/xml;q=0.9,image/avif,image/webp,image/apng,*/*;q=0.8,application/signed-exchange;v=b3;q=0.9',\n",
    "    'sec-fetch-site': 'same-origin',\n",
    "    'sec-fetch-mode': 'navigate',\n",
    "    'sec-fetch-user': '?1',\n",
    "    'sec-fetch-dest': 'document',\n",
    "    'referer': 'https://trends.google.com/trends/?geo=GB',\n",
    "    'accept-language': 'en-GB,en-US;q=0.9,en;q=0.8',\n",
    "    'cookie': '__utmc=10102256; __utma=10102256.1002770539.1638134552.1644861481.1644865584.46; __utmz=10102256.1644865584.46.15.utmcsr=google|utmccn=(organic)|utmcmd=organic|utmctr=(not%20provided); __utmt=1; __utmb=10102256.5.8.1644865595287; CONSENT=YES+GB.en-GB+V9+BX; OGPC=19025836-2:; SEARCH_SAMESITE=CgQIr5QB; SLG_GWPT_Show_Hide_tmp=1; SLG_wptGlobTipTmp=1; SID=GAh_nx_gMRCCYWgmUy0c5hm3lW45TDWujm-fyPwHDfzxXx1aBmFEH-dLjGZRtBdPNe0EVA.; __Secure-1PSID=GAh_nx_gMRCCYWgmUy0c5hm3lW45TDWujm-fyPwHDfzxXx1aVthTQe8bciZnq-NYOc10OQ.; __Secure-3PSID=GAh_nx_gMRCCYWgmUy0c5hm3lW45TDWujm-fyPwHDfzxXx1agIzY5HSjQ4bXpSTK0Xp7Yg.; HSID=AHssaSB9AQgJJB_Vy; SSID=AXsw_xQdltLtevq5g; APISID=d5thB7zlTIW8E_Ze/ACRPyGcRuuZRCPQMI; SAPISID=wp02aFw53n5jIbMz/AJEZeQqTvKDtcYZ43; __Secure-1PAPISID=wp02aFw53n5jIbMz/AJEZeQqTvKDtcYZ43; __Secure-3PAPISID=wp02aFw53n5jIbMz/AJEZeQqTvKDtcYZ43; __Secure-1PSIDCC=AJi4QfHREYMHLg5xLBJSwBtRarsZhHE32tGQAB4GHDFNguT8B6FIwAReoBDXRvY68Hw1FPQzXQ; SLG_G_WPT_TO=en; NID=511=acC5E2cJCheSHvVzSDB3tILuWzVEfdHHvPUxcc7hVNgcCyWOXgLlRq-HWaykHaMeU-juSWsdLPqTjWHAIjjt-e5i3OhnkI-vaMNYCOUzbJzugVIOV7kDwhys5sTUma7fHbf3iMhyKEegCMRu9nyTLBFQkEKG16UXJcUAWiGYJINzQkBkjyzeOhllvKLODm5dP3akO92gW0AaaKyNNjAaQsBlYBUHBVnx3_UArQeB81OkDqZlXJ-ONvrs1xTfZZktnehb9MwJSm2zU6v_tVcgwQdK-t1avpfSpGNgPTcf8mn64F_Lxqgbhq9vAKG4wgR5caL6DmIS_o9NSptecTY; S=billing-ui-v3=dEHH7nzvpzIp8zhsn1q2PPq1xy4ilQWo:billing-ui-v3-efe=dEHH7nzvpzIp8zhsn1q2PPq1xy4ilQWo; 1P_JAR=2022-02-14-19; SIDCC=AJi4QfELD4wIbpkrNxYFqxmkwEcDOcQScn2snMvSiRmnPvmy03eW5wOXJUNgw8B2Y6CQwER4Vw; __Secure-3PSIDCC=AJi4QfHSJ_3dDapCMF7VftuLmMKggRgBiTyZNKgT0p0WJwtJ0UXamz4uRTAZ8kCAyvNOXUNmCwA',\n",
    "}\n",
    "\n",
    "header2 = {\n",
    "    'authority': 'trends.google.com',\n",
    "    'sec-ch-ua': '\"Opera\";v=\"83\", \"Chromium\";v=\"97\", \";Not A Brand\";v=\"99\"',\n",
    "    'sec-ch-ua-mobile': '?0',\n",
    "    'sec-ch-ua-platform': '\"Windows\"',\n",
    "    'upgrade-insecure-requests': '1',\n",
    "    'user-agent': 'Mozilla/5.0 (Windows NT 10.0; Win64; x64) AppleWebKit/537.36 (KHTML, like Gecko) Chrome/97.0.4692.99 Safari/537.36 OPR/83.0.4254.27',\n",
    "    'accept': 'text/html,application/xhtml+xml,application/xml;q=0.9,image/avif,image/webp,image/apng,*/*;q=0.8,application/signed-exchange;v=b3;q=0.9',\n",
    "    'sec-fetch-site': 'same-origin',\n",
    "    'sec-fetch-mode': 'navigate',\n",
    "    'sec-fetch-user': '?1',\n",
    "    'sec-fetch-dest': 'document',\n",
    "    'referer': 'https://trends.google.com/trends/?geo=GB',\n",
    "    'accept-language': 'en-GB,en;q=0.9',\n",
    "    'cookie': '__utmz=10102256.1644937872.1.1.utmcsr=google|utmccn=(organic)|utmcmd=organic|utmctr=(not%20provided); __utmc=10102256; __utma=10102256.788054249.1644937872.1644937872.1644937872.1; __utmt=1; __utmb=10102256.14.9.1644937943160; CONSENT=PENDING+720; SEARCH_SAMESITE=CgQImZQB; SID=HAgztAIns6h8tuS4_B8zzEMl4wLRyQwUK_b0QO6xiHky4D9IlVQdGzeCrr18EOi_vKwoKw.; __Secure-1PSID=HAgztAIns6h8tuS4_B8zzEMl4wLRyQwUK_b0QO6xiHky4D9InS5gcygAmuqNtTCCHo_VMQ.; __Secure-3PSID=HAgztAIns6h8tuS4_B8zzEMl4wLRyQwUK_b0QO6xiHky4D9IexQrm5Rn1kmUQPuc_mq6Nw.; HSID=AU5kId5tb1YgBRonm; SSID=AWGDtu5dey5pBfLRp; APISID=TFOVMELSzHL6hRLK/ANrgyEdEtE3YIRSyo; SAPISID=ZFqS-jolAk-8PLJr/Am-xStTCbfTNwpI6i; __Secure-1PAPISID=ZFqS-jolAk-8PLJr/Am-xStTCbfTNwpI6i; __Secure-3PAPISID=ZFqS-jolAk-8PLJr/Am-xStTCbfTNwpI6i; NID=511=TzF3iItKTf0cUcVWKpCKYFXTwLpF6Iw7OU3u_86gj6fcgMdCYWKW7LuHfm7X6bMVP-W5tg3VzMqf0snn4B8IFyOgJnReUIBV8FyPRSkWZaib7zfJx7dq0-XRaPp97J2FO4pd-eojKb--SA7ncvdnCAbje3aOq0UMDEDIlVoyus3na3aVx0CChBo96WcGPYPbxBPrb40PV99XTpkQ9SN056D9Y5Hfh3g26vrOeTA0Ik5C4OuO81qjv75mpIPbGSJxxYJ_3OrBFT87vQ6auJo_69ZWaOMtiDWrOTPR8M8Kr5g_SVW-dBAk0ZkmU9UB; 1P_JAR=2022-2-15-15; SIDCC=AJi4QfHqeQT1FPjt93DfsBz_LaAzZjAO7uj2-jGu6sbycF7V5TrW5AoXF5Qja1MApyhwmyJ9ew; __Secure-3PSIDCC=AJi4QfHA-t6A68AAqJAfhVLSTEambgCzcmJ-Dw4KjPMoiollsVenx2cDDcLgkwFn0KeZX8Ev5Q',\n",
    "}\n",
    "\n",
    "from pytrends.request import TrendReq as UTrendReq\n",
    "GET_METHOD='get'\n",
    "class TrendReq(UTrendReq):\n",
    "    def _get_data(self, url, method=GET_METHOD, trim_chars=0, **kwargs):\n",
    "        return super()._get_data(url, method=GET_METHOD, trim_chars=trim_chars, headers=header1, **kwargs)\n",
    "\n",
    "def get_trends_live(coin):\n",
    "    #headers = header_useragent\n",
    "    pytrends = TrendReq(hl='en-GB')\n",
    "    pytrends.build_payload([coin], timeframe='now 7-d')\n",
    "    trend = pytrends.interest_over_time()\n",
    "    return trend\n",
    "\n",
    "from binance.client import Client\n",
    "from binance.enums import *\n",
    "api_key = 'ihvXWbHvvDrYuroIJOS9ANW6X7tv5OQSYibLLloKyIGui0w93Q5yUJOBZclnNL5D'\n",
    "api_secret = 'uzmKBJ3lmVS4TsTl2AOHVJOYTFfLM5qrg00vAqUyTYbSjiy7BDPlTpaq2Oy7qdo2'\n",
    "client = Client(api_key, api_secret)"
   ]
  },
  {
   "cell_type": "code",
   "execution_count": 2,
   "metadata": {},
   "outputs": [],
   "source": [
    "from sqlalchemy import create_engine\n",
    "db_data = 'mysql+mysqldb://' + 'admin' + ':' + '0323A8E3DB' + '@' + 'coin-database-1-instance-1.c9hqcydvu19f.us-east-1.rds.amazonaws.com' + ':3306/' + 'crypto_db' + '?charset=utf8mb4'\n",
    "engine = create_engine(db_data)\n",
    "\n",
    "cryptoString = 'SELECT * FROM crypto'\n",
    "crypto_table = pd.read_sql_query(cryptoString, engine)\n",
    "id_list_pre = crypto_table.id.astype(int).tolist()\n",
    "\n",
    "id_list = id_list_pre[start_id:end_id]"
   ]
  },
  {
   "cell_type": "code",
   "execution_count": 48,
   "metadata": {},
   "outputs": [],
   "source": [
    "for key, crypto_id in enumerate(id_list):\n",
    "    #do something based on error\n",
    "    date_request = datetime.now().replace(second=0, microsecond=0)\n",
    "    try:\n",
    "        trend = get_trends_live(crypto_table.iloc[crypto_id]['name_searchable']) #this might need to be crypto_table[id == crypto_id] ?? check how works\n",
    "    except:\n",
    "        time.sleep(60)\n",
    "        try:\n",
    "            trend = get_trends_live(crypto_table.iloc[crypto_id]['name_searchable'])\n",
    "        except:\n",
    "            time.sleep(60*5)\n",
    "            try:\n",
    "                #juggle headers???\n",
    "                trend = get_trends_live(crypto_table.iloc[crypto_id]['name_searchable'])\n",
    "            except:\n",
    "                print(f\"{date_request}: {crypto_id} trend request failed at \")\n",
    "            continue\n",
    "        \n",
    "    if trend.empty:\n",
    "        print(f\"{date_request}: {crypto_id} trend data not valid at \")\n",
    "        continue\n",
    "     \n",
    "    trend = trend.drop(['isPartial'], axis=1)\n",
    "    trend = trend.rename(columns={trend.columns[0]: \"hype\"})\n",
    "    trend['crypto_id'] = crypto_id\n",
    "    trend['date_request'] = date_request\n",
    "    trend['date'] = pd.to_datetime(trend.index)\n",
    "    trend = trend.reset_index(drop=True)\n",
    "    trend.to_sql(\"crypto_trend\", engine, if_exists=\"append\", index=False)\n",
    "    time.sleep(20)\n",
    "engine.dispose()"
   ]
  },
  {
   "cell_type": "code",
   "execution_count": 42,
   "metadata": {},
   "outputs": [
    {
     "data": {
      "text/html": [
       "<div>\n",
       "<style scoped>\n",
       "    .dataframe tbody tr th:only-of-type {\n",
       "        vertical-align: middle;\n",
       "    }\n",
       "\n",
       "    .dataframe tbody tr th {\n",
       "        vertical-align: top;\n",
       "    }\n",
       "\n",
       "    .dataframe thead th {\n",
       "        text-align: right;\n",
       "    }\n",
       "</style>\n",
       "<table border=\"1\" class=\"dataframe\">\n",
       "  <thead>\n",
       "    <tr style=\"text-align: right;\">\n",
       "      <th></th>\n",
       "      <th>id</th>\n",
       "      <th>name</th>\n",
       "      <th>name_searchable</th>\n",
       "      <th>ticker</th>\n",
       "      <th>symbol</th>\n",
       "      <th>cmc_id</th>\n",
       "      <th>category</th>\n",
       "      <th>date_added</th>\n",
       "      <th>tags</th>\n",
       "      <th>twitter_username</th>\n",
       "      <th>self_reported_tags</th>\n",
       "      <th>subreddit</th>\n",
       "    </tr>\n",
       "  </thead>\n",
       "  <tbody>\n",
       "    <tr>\n",
       "      <th>155</th>\n",
       "      <td>156</td>\n",
       "      <td>S.S. Lazio Fan Token</td>\n",
       "      <td>S.S. Lazio Fan Token</td>\n",
       "      <td>LAZIOUSDT</td>\n",
       "      <td>LAZIO</td>\n",
       "      <td>12687</td>\n",
       "      <td>token</td>\n",
       "      <td>2021-10-21T11:21:12.000Z</td>\n",
       "      <td>binance-smart-chain, fan-token, binance-launch...</td>\n",
       "      <td>OfficialSSLazio</td>\n",
       "      <td>None</td>\n",
       "      <td></td>\n",
       "    </tr>\n",
       "  </tbody>\n",
       "</table>\n",
       "</div>"
      ],
      "text/plain": [
       "      id                  name       name_searchable     ticker symbol  \\\n",
       "155  156  S.S. Lazio Fan Token  S.S. Lazio Fan Token  LAZIOUSDT  LAZIO   \n",
       "\n",
       "     cmc_id category                date_added  \\\n",
       "155   12687    token  2021-10-21T11:21:12.000Z   \n",
       "\n",
       "                                                  tags twitter_username  \\\n",
       "155  binance-smart-chain, fan-token, binance-launch...  OfficialSSLazio   \n",
       "\n",
       "    self_reported_tags subreddit  \n",
       "155               None            "
      ]
     },
     "execution_count": 42,
     "metadata": {},
     "output_type": "execute_result"
    }
   ],
   "source": [
    "crypto_table.iloc[ crypto_table.index[crypto_table['id'] == 156] ]"
   ]
  },
  {
   "cell_type": "code",
   "execution_count": 38,
   "metadata": {},
   "outputs": [
    {
     "data": {
      "text/plain": [
       "'1inch Network'"
      ]
     },
     "execution_count": 38,
     "metadata": {},
     "output_type": "execute_result"
    }
   ],
   "source": [
    "crypto_table.loc[crypto_table['id'] == 1]['name_searchable'].values[0]"
   ]
  },
  {
   "cell_type": "code",
   "execution_count": 30,
   "metadata": {},
   "outputs": [
    {
     "data": {
      "text/plain": [
       "0    1inch Network\n",
       "Name: name_searchable, dtype: object"
      ]
     },
     "execution_count": 30,
     "metadata": {},
     "output_type": "execute_result"
    }
   ],
   "source": [
    "crypto_table.iloc[ crypto_table.index[crypto_table['id'] == 1] ]['name_searchable']"
   ]
  }
 ],
 "metadata": {
  "interpreter": {
   "hash": "f4d0259107f51ae7c300a0730da527b49f9214f17e1b18bf896f8b8648417978"
  },
  "kernelspec": {
   "display_name": "Python 3.8.12 ('base')",
   "language": "python",
   "name": "python3"
  },
  "language_info": {
   "codemirror_mode": {
    "name": "ipython",
    "version": 3
   },
   "file_extension": ".py",
   "mimetype": "text/x-python",
   "name": "python",
   "nbconvert_exporter": "python",
   "pygments_lexer": "ipython3",
   "version": "3.8.12"
  },
  "orig_nbformat": 4
 },
 "nbformat": 4,
 "nbformat_minor": 2
}
