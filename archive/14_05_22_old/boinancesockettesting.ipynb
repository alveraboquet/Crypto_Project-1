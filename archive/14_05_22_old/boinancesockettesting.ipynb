{
 "cells": [
  {
   "cell_type": "code",
   "execution_count": 2,
   "metadata": {},
   "outputs": [],
   "source": [
    "from sys import displayhook\n",
    "from binance.client import Client\n",
    "from binance.enums import *\n",
    "import pandas as pd\n",
    "import time\n",
    "from datetime import datetime\n",
    "from sqlalchemy import create_engine\n",
    "import numpy as np\n",
    "from math import log10\n",
    "from binance import BinanceSocketManager\n",
    "import logging\n",
    "import threading\n",
    "import time\n",
    "import asyncio\n",
    "\n",
    "api_key = 'ihvXWbHvvDrYuroIJOS9ANW6X7tv5OQSYibLLloKyIGui0w93Q5yUJOBZclnNL5D'\n",
    "api_secret = 'uzmKBJ3lmVS4TsTl2AOHVJOYTFfLM5qrg00vAqUyTYbSjiy7BDPlTpaq2Oy7qdo2'\n",
    "client = Client(api_key, api_secret)\n",
    "bsm = BinanceSocketManager(client)"
   ]
  },
  {
   "cell_type": "code",
   "execution_count": 3,
   "metadata": {},
   "outputs": [],
   "source": [
    "api_key = 'ihvXWbHvvDrYuroIJOS9ANW6X7tv5OQSYibLLloKyIGui0w93Q5yUJOBZclnNL5D'\n",
    "api_secret = 'uzmKBJ3lmVS4TsTl2AOHVJOYTFfLM5qrg00vAqUyTYbSjiy7BDPlTpaq2Oy7qdo2'\n",
    "client = Client(api_key, api_secret)\n",
    "db_data = 'mysql+mysqldb://' + 'admin' + ':' + '0323A8E3DB' + '@' + 'coin-database-1-instance-1.c9hqcydvu19f.us-east-1.rds.amazonaws.com' + ':3306/' + 'crypto_db' + '?charset=utf8mb4'\n",
    "engine = create_engine(db_data)"
   ]
  },
  {
   "cell_type": "code",
   "execution_count": 4,
   "metadata": {},
   "outputs": [],
   "source": [
    "date_recent_checked = \"2022-04-25 22:00\"\n",
    "trend_table_rowcount_old = 100"
   ]
  },
  {
   "cell_type": "code",
   "execution_count": 5,
   "metadata": {},
   "outputs": [],
   "source": [
    "def createframe(msg):\n",
    "    df = pd.DataFrame([msg]) \n",
    "    df = df.loc[:,['s', 'E', 'p']]\n",
    "    df.columns = ('symbol' , 'Time', 'Price') \n",
    "    df.Price = df.Price.astype(float) \n",
    "    df.Time = pd.to_datetime(df.Time, unit='ms') \n",
    "    return df"
   ]
  },
  {
   "cell_type": "code",
   "execution_count": 6,
   "metadata": {},
   "outputs": [],
   "source": [
    "async def buysocket(ticker, buy_amt, SL=0.99, Target=1.01, open_position=False):\n",
    "    print(\"in socket\")\n",
    "    socket = bsm.trade_socket(ticker)\n",
    "    order = client.create_order(symbol=ticker, side='BUY', type='MARKET', quantity=buy_amt)\n",
    "    buyprice = float(order['fills'][0]['price'])\n",
    "    open_position = True\n",
    "    while open_position:\n",
    "        await socket.__aenter__()\n",
    "        msg = await socket.recv()\n",
    "        df = createframe(msg)\n",
    "        print(f'close = {df.Price.values}; target = {buyprice * Target}; stop = {buyprice * SL}', end = \"\\r\")\n",
    "        # print(f'target = {buyprice * Target}')\n",
    "        # print(f'stop = {buyprice * SL}')\n",
    "        if df.Price.values <= buyprice * SL  or df.Price.values >= buyprice * Target:\n",
    "            order = client.create_order(symbol=ticker, side='BUY', type='MARKET', quantity=buy_amt)\n",
    "            break"
   ]
  },
  {
   "cell_type": "code",
   "execution_count": 7,
   "metadata": {},
   "outputs": [],
   "source": [
    "\n",
    "format = \"%(asctime)s: %(message)s\"\n",
    "logging.basicConfig(format=format, level=logging.INFO,datefmt=\"%H:%M:%S\")\n",
    "\n",
    "def bg_async(func):\n",
    "    def wrapper():\n",
    "        loop = asyncio.new_event_loop()\n",
    "        loop.run_until_complete(func)\n",
    "    threading.Thread(target=wrapper).start()\n",
    "\n",
    "def main():\n",
    "    waiting = True\n",
    "    check_data = False\n",
    "    first = True\n",
    "    while(True):\n",
    "        if(waiting):\n",
    "            if datetime.now().minute < 20:\n",
    "                trend_table_status = pd.read_sql_query(\"show table status like 'crypto_trend'\", engine)\n",
    "                trend_table_rowcount_new = trend_table_status['Rows'].values[0]\n",
    "                if (trend_table_rowcount_new > trend_table_rowcount_old):\n",
    "                    check_data = True\n",
    "                    waiting = False\n",
    "                else:\n",
    "                    #time.sleep(5)\n",
    "                    await asyncio.sleep(5)\n",
    "            else:\n",
    "                #time.sleep(60)\n",
    "                await asyncio.sleep(60)\n",
    "\n",
    "        if(check_data):\n",
    "            logging.info(\"algo    : pre sleep\")\n",
    "            time.sleep(55)\n",
    "            logging.info(\"algo    : post sleep\")\n",
    "            if first:\n",
    "                #thread = threading.Thread(target=asyncio.run, args=(buysocket('BTCUSDT', 0.0005),))\n",
    "                \n",
    "                bg_async(buysocket('BTCUSDT', 0.0005))\n",
    "                logging.info(\"Main    : before running thread\")\n",
    "                thread.start()\n",
    "                logging.info(\"Main    : after running thread\")\n",
    "                first = False\n",
    "            check_data = False\n",
    "            waiting = True"
   ]
  },
  {
   "cell_type": "code",
   "execution_count": 8,
   "metadata": {},
   "outputs": [
    {
     "name": "stderr",
     "output_type": "stream",
     "text": [
      "22:17:01: algo    : pre sleep\n",
      "22:17:56: algo    : post sleep\n",
      "22:17:56: Main    : before running thread\n",
      "22:17:56: Main    : after running thread\n",
      "22:17:56: algo    : pre sleep\n"
     ]
    },
    {
     "name": "stdout",
     "output_type": "stream",
     "text": [
      "in socket\n"
     ]
    },
    {
     "name": "stderr",
     "output_type": "stream",
     "text": [
      "Exception in thread Thread-3:\n",
      "Traceback (most recent call last):\n",
      "  File \"C:\\Users\\ellio\\anaconda3\\lib\\threading.py\", line 932, in _bootstrap_inner\n",
      "    self.run()\n",
      "  File \"C:\\Users\\ellio\\anaconda3\\lib\\threading.py\", line 870, in run\n",
      "    self._target(*self._args, **self._kwargs)\n",
      "  File \"C:\\Users\\ellio\\anaconda3\\lib\\asyncio\\runners.py\", line 44, in run\n",
      "    return loop.run_until_complete(main)\n",
      "  File \"C:\\Users\\ellio\\anaconda3\\lib\\asyncio\\base_events.py\", line 616, in run_until_complete\n",
      "    return future.result()\n",
      "  File \"C:\\Users\\Public\\Documents\\Wondershare\\CreatorTemp\\ipykernel_19204\\2585404920.py\", line 9, in buysocket\n",
      "  File \"C:\\Users\\ellio\\anaconda3\\lib\\site-packages\\binance\\streams.py\", line 197, in recv\n",
      "    res = await asyncio.wait_for(self._queue.get(), timeout=self.TIMEOUT)\n",
      "  File \"C:\\Users\\ellio\\anaconda3\\lib\\asyncio\\tasks.py\", line 494, in wait_for\n",
      "    return fut.result()\n",
      "  File \"C:\\Users\\ellio\\anaconda3\\lib\\asyncio\\queues.py\", line 163, in get\n",
      "    await getter\n",
      "RuntimeError: Task <Task pending name='Task-9' coro=<Queue.get() running at C:\\Users\\ellio\\anaconda3\\lib\\asyncio\\queues.py:163> cb=[_release_waiter(<Future pendi...487509280>()]>)() at C:\\Users\\ellio\\anaconda3\\lib\\asyncio\\tasks.py:429]> got Future <Future pending> attached to a different loop\n",
      "22:18:51: algo    : post sleep\n",
      "22:18:51: algo    : pre sleep\n",
      "22:19:46: algo    : post sleep\n",
      "22:19:47: algo    : pre sleep\n"
     ]
    }
   ],
   "source": [
    "await main()"
   ]
  },
  {
   "cell_type": "code",
   "execution_count": null,
   "metadata": {},
   "outputs": [
    {
     "name": "stderr",
     "output_type": "stream",
     "text": [
      "19:46:54: Main    : before creating thread\n"
     ]
    },
    {
     "ename": "TypeError",
     "evalue": "run() missing 1 required positional argument: 'main'",
     "output_type": "error",
     "traceback": [
      "\u001b[1;31m---------------------------------------------------------------------------\u001b[0m",
      "\u001b[1;31mTypeError\u001b[0m                                 Traceback (most recent call last)",
      "\u001b[1;32mc:\\Users\\ellio\\work\\Crypto Project\\boinancesockettesting.ipynb Cell 5'\u001b[0m in \u001b[0;36m<cell line: 6>\u001b[1;34m()\u001b[0m\n\u001b[0;32m      <a href='vscode-notebook-cell:/c%3A/Users/ellio/work/Crypto%20Project/boinancesockettesting.ipynb#ch0000008?line=1'>2</a>\u001b[0m logging\u001b[39m.\u001b[39mbasicConfig(\u001b[39mformat\u001b[39m\u001b[39m=\u001b[39m\u001b[39mformat\u001b[39m, level\u001b[39m=\u001b[39mlogging\u001b[39m.\u001b[39mINFO,\n\u001b[0;32m      <a href='vscode-notebook-cell:/c%3A/Users/ellio/work/Crypto%20Project/boinancesockettesting.ipynb#ch0000008?line=2'>3</a>\u001b[0m                     datefmt\u001b[39m=\u001b[39m\u001b[39m\"\u001b[39m\u001b[39m%\u001b[39m\u001b[39mH:\u001b[39m\u001b[39m%\u001b[39m\u001b[39mM:\u001b[39m\u001b[39m%\u001b[39m\u001b[39mS\u001b[39m\u001b[39m\"\u001b[39m)\n\u001b[0;32m      <a href='vscode-notebook-cell:/c%3A/Users/ellio/work/Crypto%20Project/boinancesockettesting.ipynb#ch0000008?line=4'>5</a>\u001b[0m logging\u001b[39m.\u001b[39minfo(\u001b[39m\"\u001b[39m\u001b[39mMain    : before creating thread\u001b[39m\u001b[39m\"\u001b[39m)\n\u001b[1;32m----> <a href='vscode-notebook-cell:/c%3A/Users/ellio/work/Crypto%20Project/boinancesockettesting.ipynb#ch0000008?line=5'>6</a>\u001b[0m x \u001b[39m=\u001b[39m threading\u001b[39m.\u001b[39mThread(target\u001b[39m=\u001b[39masyncio\u001b[39m.\u001b[39;49mrun(), args\u001b[39m=\u001b[39m(\u001b[39m1\u001b[39m,))\n\u001b[0;32m      <a href='vscode-notebook-cell:/c%3A/Users/ellio/work/Crypto%20Project/boinancesockettesting.ipynb#ch0000008?line=6'>7</a>\u001b[0m logging\u001b[39m.\u001b[39minfo(\u001b[39m\"\u001b[39m\u001b[39mMain    : before running thread\u001b[39m\u001b[39m\"\u001b[39m)\n\u001b[0;32m      <a href='vscode-notebook-cell:/c%3A/Users/ellio/work/Crypto%20Project/boinancesockettesting.ipynb#ch0000008?line=7'>8</a>\u001b[0m x\u001b[39m.\u001b[39mstart()\n",
      "\u001b[1;31mTypeError\u001b[0m: run() missing 1 required positional argument: 'main'"
     ]
    }
   ],
   "source": [
    "\n",
    "format = \"%(asctime)s: %(message)s\"\n",
    "logging.basicConfig(format=format, level=logging.INFO,\n",
    "                    datefmt=\"%H:%M:%S\")\n",
    "\n",
    "logging.info(\"Main    : before creating thread\")\n",
    "x = threading.Thread(target=asyncio.run(), args=(1,))\n",
    "logging.info(\"Main    : before running thread\")\n",
    "x.start()\n",
    "logging.info(\"Main    : wait for the thread to finish\")\n",
    "# x.join()\n",
    "logging.info(\"Main    : all done\")"
   ]
  },
  {
   "cell_type": "code",
   "execution_count": null,
   "metadata": {},
   "outputs": [],
   "source": [
    "async def algo():\n",
    "    waiting = True\n",
    "    check_data = False\n",
    "    first = True\n",
    "    while(True):\n",
    "        if(waiting):\n",
    "            if datetime.now().minute < 20:\n",
    "                trend_table_status = pd.read_sql_query(\"show table status like 'crypto_trend'\", engine)\n",
    "                trend_table_rowcount_new = trend_table_status['Rows'].values[0]\n",
    "                if (trend_table_rowcount_new > trend_table_rowcount_old):\n",
    "                    check_data = True\n",
    "                    waiting = False\n",
    "                else:\n",
    "                    #time.sleep(5)\n",
    "                    await asyncio.sleep(5)\n",
    "            else:\n",
    "                #time.sleep(60)\n",
    "                await asyncio.sleep(60)\n",
    "\n",
    "        if(check_data):\n",
    "            print('algo bit a')\n",
    "            asyncio.sleep(5)\n",
    "            time.sleep(55)\n",
    "            print('algo bit b')\n",
    "            if first:\n",
    "                print(\"here\")\n",
    "                task2 = asyncio.create_task(buysocket('BTCUSDT', 0.00025))\n",
    "                first = False\n",
    "            check_data = False\n",
    "            waiting = True"
   ]
  },
  {
   "cell_type": "code",
   "execution_count": null,
   "metadata": {},
   "outputs": [],
   "source": [
    "def thread_function(name):\n",
    "    logging.info(\"Thread %s: starting\", name)\n",
    "    time.sleep(2)\n",
    "    logging.info(\"Thread %s: finishing\", name)"
   ]
  },
  {
   "cell_type": "code",
   "execution_count": null,
   "metadata": {},
   "outputs": [
    {
     "name": "stdout",
     "output_type": "stream",
     "text": [
      "in socket\n",
      "close = [40294.99]; target = 40688.759; stop = 39883.041000000005\r"
     ]
    }
   ],
   "source": [
    "await buysocket('BTCUSDT', 0.00025)"
   ]
  }
 ],
 "metadata": {
  "interpreter": {
   "hash": "f4d0259107f51ae7c300a0730da527b49f9214f17e1b18bf896f8b8648417978"
  },
  "kernelspec": {
   "display_name": "Python 3.8.12 ('base')",
   "language": "python",
   "name": "python3"
  },
  "language_info": {
   "codemirror_mode": {
    "name": "ipython",
    "version": 3
   },
   "file_extension": ".py",
   "mimetype": "text/x-python",
   "name": "python",
   "nbconvert_exporter": "python",
   "pygments_lexer": "ipython3",
   "version": "3.8.12"
  },
  "orig_nbformat": 4
 },
 "nbformat": 4,
 "nbformat_minor": 2
}
