{
 "cells": [
  {
   "cell_type": "code",
   "execution_count": 137,
   "metadata": {},
   "outputs": [],
   "source": [
    "from binance.client import Client\n",
    "from binance.enums import *\n",
    "import pandas as pd\n",
    "from math import log10, ceil\n",
    "api_key = 'ihvXWbHvvDrYuroIJOS9ANW6X7tv5OQSYibLLloKyIGui0w93Q5yUJOBZclnNL5D'\n",
    "api_secret = 'uzmKBJ3lmVS4TsTl2AOHVJOYTFfLM5qrg00vAqUyTYbSjiy7BDPlTpaq2Oy7qdo2'\n",
    "client = Client(api_key, api_secret)\n",
    "\n"
   ]
  },
  {
   "cell_type": "code",
   "execution_count": 4,
   "metadata": {},
   "outputs": [
    {
     "data": {
      "text/plain": [
       "{'asset': 'BTC', 'free': '0.00050000', 'locked': '0.00000000'}"
      ]
     },
     "execution_count": 4,
     "metadata": {},
     "output_type": "execute_result"
    }
   ],
   "source": [
    "client.get_asset_balance(asset='BTC')"
   ]
  },
  {
   "cell_type": "markdown",
   "metadata": {},
   "source": [
    "def strategy (buy_amt, SL=0.985, target=1.02, open_position=False):\n",
    "    try:\n",
    "        asset = get_top_symbol()\n",
    "        df = getminutedata(asset,'1m', '120')\n",
    "    except:\n",
    "        time.sleep(61)\n",
    "        asset = get_top_symbol()\n",
    "        df = getminutedata(asset,'1m', '120')\n",
    "    qty = round(buy_amt/df.Close.iloc[-1])\n",
    "    if ((df.Close.pct_change() + 1).cumprod()).iloc(-1) > 1:\n",
    "        order = client.create_order(symbol=asset,\n",
    "                                    side='BUY',\n",
    "                                    type='MARKET',\n",
    "                                    quantity = qty)\n",
    "    buyprice = float(order['fills'][0]['price'])\n",
    "    open_position = True\n",
    "    while open_position:\n",
    "        try:\n",
    "            df = getminutedata(asset, '1m', '2')\n",
    "        except:\n",
    "            print('something went wrong. script conitnue in 1 minute')\n",
    "            time.sleep(61)\n",
    "            df = getminutedata(asset, '1m', '2')\n",
    "            print(f'current Close is ' + \n",
    "            print(f' current Target is + str(buyprice * Target)) \n",
    "            print(f'current Stop is + str(buyprice * SL)) \n",
    "            if df. Close [—1] <= buyprice * SL or df. Close buyprice * Target: \n",
    "                order = client.create_order(symbol=asset\n",
    "                                            side=' SELL', \n",
    "                                            type= , \n",
    "                                            quantity = qty) \n",
    "                                            print(order) \n",
    "                                            break\n",
    "\n"
   ]
  },
  {
   "cell_type": "code",
   "execution_count": 38,
   "metadata": {},
   "outputs": [
    {
     "data": {
      "text/plain": [
       "50.64"
      ]
     },
     "execution_count": 38,
     "metadata": {},
     "output_type": "execute_result"
    }
   ],
   "source": [
    "maxholds = 3\n",
    "holding = [False, False, False]"
   ]
  },
  {
   "cell_type": "code",
   "execution_count": 54,
   "metadata": {},
   "outputs": [],
   "source": [
    "currbal = float(client.get_asset_balance(asset='USDT')['free'])\n",
    "buy_amt = round( currbal / (maxholds - sum(holding)), 2)"
   ]
  },
  {
   "cell_type": "code",
   "execution_count": 179,
   "metadata": {},
   "outputs": [],
   "source": [
    "buy_amt = 20\n",
    "ticker = \"BNBUSDT\"\n",
    "liveprice = client.get_symbol_ticker(symbol=ticker)['price']\n",
    "qty_pre = (buy_amt)/float(liveprice)\n",
    "#qty = round(qty_pre, 2-int(floor(log10(abs(qty_pre))))-1)\n",
    "pricePrecision = -log10(float(client.get_symbol_info(ticker)['filters'][2]['stepSize']))\n",
    "qty = round(qty_pre, int(pricePrecision))\n",
    "# pricePrecision = client.get_symbol_info(ticker)['baseAssetPrecision']\n",
    "# qty = float(round(qty_pre, pricePrecision-1))"
   ]
  },
  {
   "cell_type": "code",
   "execution_count": 180,
   "metadata": {},
   "outputs": [
    {
     "name": "stdout",
     "output_type": "stream",
     "text": [
      "{'symbol': 'BNBUSDT', 'orderId': 3845824735, 'orderListId': -1, 'clientOrderId': 'A4JpCK3TDixPJ0Th6J8agq', 'transactTime': 1648933468637, 'price': '0.00000000', 'origQty': '0.04500000', 'executedQty': '0.04500000', 'cummulativeQuoteQty': '19.87200000', 'status': 'FILLED', 'timeInForce': 'GTC', 'type': 'MARKET', 'side': 'BUY', 'fills': [{'price': '441.60000000', 'qty': '0.04500000', 'commission': '0.00003375', 'commissionAsset': 'BNB', 'tradeId': 534042207}]}\n"
     ]
    },
    {
     "data": {
      "text/plain": [
       "441.6"
      ]
     },
     "execution_count": 180,
     "metadata": {},
     "output_type": "execute_result"
    }
   ],
   "source": [
    "buyorder = client.create_order(symbol=ticker,\n",
    "                            side='BUY',\n",
    "                            type='MARKET',\n",
    "                            quantity = qty)\n",
    "print(buyorder)\n",
    "float(buyorder['fills'][0]['price'])"
   ]
  },
  {
   "cell_type": "code",
   "execution_count": 176,
   "metadata": {},
   "outputs": [
    {
     "ename": "BinanceAPIException",
     "evalue": "APIError(code=-2010): Account has insufficient balance for requested action.",
     "output_type": "error",
     "traceback": [
      "\u001b[1;31m---------------------------------------------------------------------------\u001b[0m",
      "\u001b[1;31mBinanceAPIException\u001b[0m                       Traceback (most recent call last)",
      "\u001b[1;32mc:\\Users\\ellio\\work\\Crypto Project\\binance_testing.ipynb Cell 21'\u001b[0m in \u001b[0;36m<cell line: 1>\u001b[1;34m()\u001b[0m\n\u001b[1;32m----> <a href='vscode-notebook-cell:/c%3A/Users/ellio/work/Crypto%20Project/binance_testing.ipynb#ch0000023?line=0'>1</a>\u001b[0m sellorder \u001b[39m=\u001b[39m client\u001b[39m.\u001b[39;49mcreate_order(symbol\u001b[39m=\u001b[39;49mticker,\n\u001b[0;32m      <a href='vscode-notebook-cell:/c%3A/Users/ellio/work/Crypto%20Project/binance_testing.ipynb#ch0000023?line=1'>2</a>\u001b[0m                             side\u001b[39m=\u001b[39;49m\u001b[39m'\u001b[39;49m\u001b[39mSELL\u001b[39;49m\u001b[39m'\u001b[39;49m, \n\u001b[0;32m      <a href='vscode-notebook-cell:/c%3A/Users/ellio/work/Crypto%20Project/binance_testing.ipynb#ch0000023?line=2'>3</a>\u001b[0m                             \u001b[39mtype\u001b[39;49m\u001b[39m=\u001b[39;49m \u001b[39m'\u001b[39;49m\u001b[39mMARKET\u001b[39;49m\u001b[39m'\u001b[39;49m, \n\u001b[0;32m      <a href='vscode-notebook-cell:/c%3A/Users/ellio/work/Crypto%20Project/binance_testing.ipynb#ch0000023?line=3'>4</a>\u001b[0m                             quantity \u001b[39m=\u001b[39;49m \u001b[39mround\u001b[39;49m(qty\u001b[39m*\u001b[39;49m\u001b[39m0.999\u001b[39;49m , \u001b[39mint\u001b[39;49m(pricePrecision))) \n\u001b[0;32m      <a href='vscode-notebook-cell:/c%3A/Users/ellio/work/Crypto%20Project/binance_testing.ipynb#ch0000023?line=4'>5</a>\u001b[0m \u001b[39mprint\u001b[39m(sellorder)\n",
      "File \u001b[1;32m~\\anaconda3\\lib\\site-packages\\binance\\client.py:1385\u001b[0m, in \u001b[0;36mClient.create_order\u001b[1;34m(self, **params)\u001b[0m\n\u001b[0;32m   <a href='file:///c%3A/Users/ellio/anaconda3/lib/site-packages/binance/client.py?line=1269'>1270</a>\u001b[0m \u001b[39mdef\u001b[39;00m \u001b[39mcreate_order\u001b[39m(\u001b[39mself\u001b[39m, \u001b[39m*\u001b[39m\u001b[39m*\u001b[39mparams):\n\u001b[0;32m   <a href='file:///c%3A/Users/ellio/anaconda3/lib/site-packages/binance/client.py?line=1270'>1271</a>\u001b[0m     \u001b[39m\"\"\"Send in a new order\u001b[39;00m\n\u001b[0;32m   <a href='file:///c%3A/Users/ellio/anaconda3/lib/site-packages/binance/client.py?line=1271'>1272</a>\u001b[0m \n\u001b[0;32m   <a href='file:///c%3A/Users/ellio/anaconda3/lib/site-packages/binance/client.py?line=1272'>1273</a>\u001b[0m \u001b[39m    Any order with an icebergQty MUST have timeInForce set to GTC.\u001b[39;00m\n\u001b[1;32m   (...)\u001b[0m\n\u001b[0;32m   <a href='file:///c%3A/Users/ellio/anaconda3/lib/site-packages/binance/client.py?line=1382'>1383</a>\u001b[0m \n\u001b[0;32m   <a href='file:///c%3A/Users/ellio/anaconda3/lib/site-packages/binance/client.py?line=1383'>1384</a>\u001b[0m \u001b[39m    \"\"\"\u001b[39;00m\n\u001b[1;32m-> <a href='file:///c%3A/Users/ellio/anaconda3/lib/site-packages/binance/client.py?line=1384'>1385</a>\u001b[0m     \u001b[39mreturn\u001b[39;00m \u001b[39mself\u001b[39;49m\u001b[39m.\u001b[39;49m_post(\u001b[39m'\u001b[39;49m\u001b[39morder\u001b[39;49m\u001b[39m'\u001b[39;49m, \u001b[39mTrue\u001b[39;49;00m, data\u001b[39m=\u001b[39;49mparams)\n",
      "File \u001b[1;32m~\\anaconda3\\lib\\site-packages\\binance\\client.py:374\u001b[0m, in \u001b[0;36mClient._post\u001b[1;34m(self, path, signed, version, **kwargs)\u001b[0m\n\u001b[0;32m    <a href='file:///c%3A/Users/ellio/anaconda3/lib/site-packages/binance/client.py?line=372'>373</a>\u001b[0m \u001b[39mdef\u001b[39;00m \u001b[39m_post\u001b[39m(\u001b[39mself\u001b[39m, path, signed\u001b[39m=\u001b[39m\u001b[39mFalse\u001b[39;00m, version\u001b[39m=\u001b[39mBaseClient\u001b[39m.\u001b[39mPUBLIC_API_VERSION, \u001b[39m*\u001b[39m\u001b[39m*\u001b[39mkwargs) \u001b[39m-\u001b[39m\u001b[39m>\u001b[39m Dict:\n\u001b[1;32m--> <a href='file:///c%3A/Users/ellio/anaconda3/lib/site-packages/binance/client.py?line=373'>374</a>\u001b[0m     \u001b[39mreturn\u001b[39;00m \u001b[39mself\u001b[39;49m\u001b[39m.\u001b[39;49m_request_api(\u001b[39m'\u001b[39;49m\u001b[39mpost\u001b[39;49m\u001b[39m'\u001b[39;49m, path, signed, version, \u001b[39m*\u001b[39;49m\u001b[39m*\u001b[39;49mkwargs)\n",
      "File \u001b[1;32m~\\anaconda3\\lib\\site-packages\\binance\\client.py:334\u001b[0m, in \u001b[0;36mClient._request_api\u001b[1;34m(self, method, path, signed, version, **kwargs)\u001b[0m\n\u001b[0;32m    <a href='file:///c%3A/Users/ellio/anaconda3/lib/site-packages/binance/client.py?line=329'>330</a>\u001b[0m \u001b[39mdef\u001b[39;00m \u001b[39m_request_api\u001b[39m(\n\u001b[0;32m    <a href='file:///c%3A/Users/ellio/anaconda3/lib/site-packages/binance/client.py?line=330'>331</a>\u001b[0m     \u001b[39mself\u001b[39m, method, path: \u001b[39mstr\u001b[39m, signed: \u001b[39mbool\u001b[39m \u001b[39m=\u001b[39m \u001b[39mFalse\u001b[39;00m, version\u001b[39m=\u001b[39mBaseClient\u001b[39m.\u001b[39mPUBLIC_API_VERSION, \u001b[39m*\u001b[39m\u001b[39m*\u001b[39mkwargs\n\u001b[0;32m    <a href='file:///c%3A/Users/ellio/anaconda3/lib/site-packages/binance/client.py?line=331'>332</a>\u001b[0m ):\n\u001b[0;32m    <a href='file:///c%3A/Users/ellio/anaconda3/lib/site-packages/binance/client.py?line=332'>333</a>\u001b[0m     uri \u001b[39m=\u001b[39m \u001b[39mself\u001b[39m\u001b[39m.\u001b[39m_create_api_uri(path, signed, version)\n\u001b[1;32m--> <a href='file:///c%3A/Users/ellio/anaconda3/lib/site-packages/binance/client.py?line=333'>334</a>\u001b[0m     \u001b[39mreturn\u001b[39;00m \u001b[39mself\u001b[39;49m\u001b[39m.\u001b[39;49m_request(method, uri, signed, \u001b[39m*\u001b[39;49m\u001b[39m*\u001b[39;49mkwargs)\n",
      "File \u001b[1;32m~\\anaconda3\\lib\\site-packages\\binance\\client.py:315\u001b[0m, in \u001b[0;36mClient._request\u001b[1;34m(self, method, uri, signed, force_params, **kwargs)\u001b[0m\n\u001b[0;32m    <a href='file:///c%3A/Users/ellio/anaconda3/lib/site-packages/binance/client.py?line=311'>312</a>\u001b[0m kwargs \u001b[39m=\u001b[39m \u001b[39mself\u001b[39m\u001b[39m.\u001b[39m_get_request_kwargs(method, signed, force_params, \u001b[39m*\u001b[39m\u001b[39m*\u001b[39mkwargs)\n\u001b[0;32m    <a href='file:///c%3A/Users/ellio/anaconda3/lib/site-packages/binance/client.py?line=313'>314</a>\u001b[0m \u001b[39mself\u001b[39m\u001b[39m.\u001b[39mresponse \u001b[39m=\u001b[39m \u001b[39mgetattr\u001b[39m(\u001b[39mself\u001b[39m\u001b[39m.\u001b[39msession, method)(uri, \u001b[39m*\u001b[39m\u001b[39m*\u001b[39mkwargs)\n\u001b[1;32m--> <a href='file:///c%3A/Users/ellio/anaconda3/lib/site-packages/binance/client.py?line=314'>315</a>\u001b[0m \u001b[39mreturn\u001b[39;00m \u001b[39mself\u001b[39;49m\u001b[39m.\u001b[39;49m_handle_response(\u001b[39mself\u001b[39;49m\u001b[39m.\u001b[39;49mresponse)\n",
      "File \u001b[1;32m~\\anaconda3\\lib\\site-packages\\binance\\client.py:324\u001b[0m, in \u001b[0;36mClient._handle_response\u001b[1;34m(response)\u001b[0m\n\u001b[0;32m    <a href='file:///c%3A/Users/ellio/anaconda3/lib/site-packages/binance/client.py?line=318'>319</a>\u001b[0m \u001b[39m\"\"\"Internal helper for handling API responses from the Binance server.\u001b[39;00m\n\u001b[0;32m    <a href='file:///c%3A/Users/ellio/anaconda3/lib/site-packages/binance/client.py?line=319'>320</a>\u001b[0m \u001b[39mRaises the appropriate exceptions when necessary; otherwise, returns the\u001b[39;00m\n\u001b[0;32m    <a href='file:///c%3A/Users/ellio/anaconda3/lib/site-packages/binance/client.py?line=320'>321</a>\u001b[0m \u001b[39mresponse.\u001b[39;00m\n\u001b[0;32m    <a href='file:///c%3A/Users/ellio/anaconda3/lib/site-packages/binance/client.py?line=321'>322</a>\u001b[0m \u001b[39m\"\"\"\u001b[39;00m\n\u001b[0;32m    <a href='file:///c%3A/Users/ellio/anaconda3/lib/site-packages/binance/client.py?line=322'>323</a>\u001b[0m \u001b[39mif\u001b[39;00m \u001b[39mnot\u001b[39;00m (\u001b[39m200\u001b[39m \u001b[39m<\u001b[39m\u001b[39m=\u001b[39m response\u001b[39m.\u001b[39mstatus_code \u001b[39m<\u001b[39m \u001b[39m300\u001b[39m):\n\u001b[1;32m--> <a href='file:///c%3A/Users/ellio/anaconda3/lib/site-packages/binance/client.py?line=323'>324</a>\u001b[0m     \u001b[39mraise\u001b[39;00m BinanceAPIException(response, response\u001b[39m.\u001b[39mstatus_code, response\u001b[39m.\u001b[39mtext)\n\u001b[0;32m    <a href='file:///c%3A/Users/ellio/anaconda3/lib/site-packages/binance/client.py?line=324'>325</a>\u001b[0m \u001b[39mtry\u001b[39;00m:\n\u001b[0;32m    <a href='file:///c%3A/Users/ellio/anaconda3/lib/site-packages/binance/client.py?line=325'>326</a>\u001b[0m     \u001b[39mreturn\u001b[39;00m response\u001b[39m.\u001b[39mjson()\n",
      "\u001b[1;31mBinanceAPIException\u001b[0m: APIError(code=-2010): Account has insufficient balance for requested action."
     ]
    }
   ],
   "source": [
    "sellorder = client.create_order(symbol=ticker,\n",
    "                            side='SELL', \n",
    "                            type= 'MARKET', \n",
    "                            quantity = qty) \n",
    "print(sellorder)"
   ]
  },
  {
   "cell_type": "code",
   "execution_count": 173,
   "metadata": {},
   "outputs": [
    {
     "data": {
      "text/plain": [
       "'10.08990000'"
      ]
     },
     "execution_count": 173,
     "metadata": {},
     "output_type": "execute_result"
    }
   ],
   "source": [
    "client.get_asset_balance(asset='1INCH')['free']"
   ]
  },
  {
   "cell_type": "code",
   "execution_count": 186,
   "metadata": {},
   "outputs": [
    {
     "data": {
      "text/plain": [
       "'0.04500000'"
      ]
     },
     "execution_count": 186,
     "metadata": {},
     "output_type": "execute_result"
    }
   ],
   "source": [
    "buyorder['fills'][0]['qty']"
   ]
  }
 ],
 "metadata": {
  "interpreter": {
   "hash": "f4d0259107f51ae7c300a0730da527b49f9214f17e1b18bf896f8b8648417978"
  },
  "kernelspec": {
   "display_name": "Python 3.8.12 ('base')",
   "language": "python",
   "name": "python3"
  },
  "language_info": {
   "codemirror_mode": {
    "name": "ipython",
    "version": 3
   },
   "file_extension": ".py",
   "mimetype": "text/x-python",
   "name": "python",
   "nbconvert_exporter": "python",
   "pygments_lexer": "ipython3",
   "version": "3.8.12"
  },
  "orig_nbformat": 4
 },
 "nbformat": 4,
 "nbformat_minor": 2
}
