{
 "cells": [
  {
   "cell_type": "markdown",
   "metadata": {},
   "source": [
    "close data for backtesting"
   ]
  },
  {
   "cell_type": "code",
   "execution_count": 7,
   "metadata": {},
   "outputs": [],
   "source": [
    "from sqlalchemy import create_engine\n",
    "from binance.client import Client\n",
    "import pandas as pd\n",
    "import pymysql\n",
    "\n",
    "api_key = 'ihvXWbHvvDrYuroIJOS9ANW6X7tv5OQSYibLLloKyIGui0w93Q5yUJOBZclnNL5D'\n",
    "api_secret = 'uzmKBJ3lmVS4TsTl2AOHVJOYTFfLM5qrg00vAqUyTYbSjiy7BDPlTpaq2Oy7qdo2'\n",
    "client = Client(api_key, api_secret)\n",
    "\n",
    "db_data = 'mysql+mysqldb://' + 'admin' + ':' + '0323A8E3DB' + '@' + 'coin-database-1-instance-1.c9hqcydvu19f.us-east-1.rds.amazonaws.com' + ':3306/' + 'crypto_db' + '?charset=utf8mb4'\n",
    "engine = create_engine(db_data)\n"
   ]
  },
  {
   "cell_type": "code",
   "execution_count": 2,
   "metadata": {},
   "outputs": [],
   "source": [
    "def getminutedata(symbol, start, end):\n",
    "    frame = pd.DataFrame(client.get_historical_klines(symbol, Client.KLINE_INTERVAL_15MINUTE, start, end))\n",
    "    frame = frame.iloc[:,:6]                                                    \n",
    "    frame.columns = ['date', 'open', 'high', 'low', 'close', 'volume']\n",
    "    frame = frame.set_index('date')\n",
    "    frame.index = pd.to_datetime(frame.index, unit= 'ms')\n",
    "    frame = frame.astype(float)\n",
    "    return frame.reset_index()"
   ]
  },
  {
   "cell_type": "code",
   "execution_count": 3,
   "metadata": {},
   "outputs": [],
   "source": [
    "cryptoString = 'SELECT * FROM crypto'\n",
    "crypto_table = pd.read_sql_query(cryptoString, engine)\n",
    "full_id_list = crypto_table.id.astype(int).tolist()\n"
   ]
  },
  {
   "cell_type": "code",
   "execution_count": 13,
   "metadata": {},
   "outputs": [
    {
     "data": {
      "text/plain": [
       "0"
      ]
     },
     "execution_count": 13,
     "metadata": {},
     "output_type": "execute_result"
    }
   ],
   "source": [
    "sql_create_crypto_price_table = \"\"\"CREATE TABLE IF NOT EXISTS crypto_price (\n",
    "                    crypto_id int(7),\n",
    "                    date datetime NOT NULL,\n",
    "                    open decimal(30, 20) NOT NULL,\n",
    "                    high decimal(30, 20) NOT NULL,\n",
    "                    low decimal(30, 20) NOT NULL,\n",
    "                    close decimal(30, 20) NOT NULL,\n",
    "                    volume integer(20),\n",
    "                    PRIMARY KEY(crypto_id, date),\n",
    "                    FOREIGN KEY (crypto_id) REFERENCES crypto (id)\n",
    "                );\"\"\"\n",
    "conn = pymysql.connect(host='coin-database-1-instance-1.c9hqcydvu19f.us-east-1.rds.amazonaws.com', user='admin', password='0323A8E3DB', database='crypto_db')\n",
    "c = conn.cursor()\n",
    "c.execute(sql_create_crypto_price_table)"
   ]
  },
  {
   "cell_type": "code",
   "execution_count": 21,
   "metadata": {},
   "outputs": [],
   "source": [
    "start_string = \"2022-03-11 12:00:00\"\n",
    "end_string = \"2022-03-11 13:45:00\"\n",
    "\n",
    "for id in full_id_list:\n",
    "    df = getminutedata(crypto_table.loc[crypto_table['id'] == id]['ticker'].values[0], start_string, end_string)\n",
    "    df['crypto_id'] = id\n",
    "    df.to_sql(\"crypto_price\", engine, if_exists=\"append\", index=False)\n"
   ]
  },
  {
   "cell_type": "code",
   "execution_count": null,
   "metadata": {},
   "outputs": [],
   "source": [
    "value = getminutedata(crypto_table.loc[crypto_table['id'] == crypto_id]['ticker'].values[0], \n",
    "                                                str(date_request.loc[crypto_id]['date_request'] - datetime.timedelta(hours=2)) ,\n",
    "                                                str(date_request.loc[crypto_id]['date_request']) )\n",
    "close = value[['date','tlose']]                             \n",
    "close.index = pd.to_datetime(close['date'])\n",
    "close = close.drop(columns=['date'])\n",
    "close = close.rename(columns={\"Close\": f\"{crypto_id}\"})"
   ]
  },
  {
   "cell_type": "code",
   "execution_count": 16,
   "metadata": {},
   "outputs": [
    {
     "ename": "NameError",
     "evalue": "name 'date_request' is not defined",
     "output_type": "error",
     "traceback": [
      "\u001b[1;31m---------------------------------------------------------------------------\u001b[0m",
      "\u001b[1;31mNameError\u001b[0m                                 Traceback (most recent call last)",
      "\u001b[1;32mc:\\Users\\ellio\\work\\Crypto Project\\18_03_2022 old\\database_close.ipynb Cell 8'\u001b[0m in \u001b[0;36m<cell line: 1>\u001b[1;34m()\u001b[0m\n\u001b[1;32m----> <a href='vscode-notebook-cell:/c%3A/Users/ellio/work/Crypto%20Project/18_03_2022%20old/database_close.ipynb#ch0000011?line=0'>1</a>\u001b[0m date_lower_str \u001b[39m=\u001b[39m \u001b[39mstr\u001b[39m(date_request\u001b[39m.\u001b[39mloc[crypto_id][\u001b[39m'\u001b[39m\u001b[39mdate_request\u001b[39m\u001b[39m'\u001b[39m] \u001b[39m-\u001b[39m datetime\u001b[39m.\u001b[39mtimedelta(hours\u001b[39m=\u001b[39m\u001b[39m2\u001b[39m))\n\u001b[0;32m      <a href='vscode-notebook-cell:/c%3A/Users/ellio/work/Crypto%20Project/18_03_2022%20old/database_close.ipynb#ch0000011?line=1'>2</a>\u001b[0m date_upper_str \u001b[39m=\u001b[39m \u001b[39mstr\u001b[39m(date_request\u001b[39m.\u001b[39mloc[crypto_id][\u001b[39m'\u001b[39m\u001b[39mdate_request\u001b[39m\u001b[39m'\u001b[39m] \u001b[39m-\u001b[39m datetime\u001b[39m.\u001b[39mtimedelta(hours\u001b[39m=\u001b[39m\u001b[39m2\u001b[39m))\n\u001b[0;32m      <a href='vscode-notebook-cell:/c%3A/Users/ellio/work/Crypto%20Project/18_03_2022%20old/database_close.ipynb#ch0000011?line=3'>4</a>\u001b[0m new_close_string \u001b[39m=\u001b[39m \u001b[39mf\u001b[39m\u001b[39m\"\u001b[39m\u001b[39mSELECT date, close FROM crypto_price WHERE \u001b[39m\u001b[39m'\u001b[39m\u001b[39mdate\u001b[39m\u001b[39m'\u001b[39m\u001b[39m > \u001b[39m\u001b[39m'\u001b[39m\u001b[39m{\u001b[39;00mdate_lower_str\u001b[39m}\u001b[39;00m\u001b[39m'\u001b[39m\u001b[39m AND \u001b[39m\u001b[39m'\u001b[39m\u001b[39mdate\u001b[39m\u001b[39m'\u001b[39m\u001b[39m <= \u001b[39m\u001b[39m'\u001b[39m\u001b[39m{\u001b[39;00mdate_upper_str\u001b[39m}\u001b[39;00m\u001b[39m'\u001b[39m\u001b[39m ORDER BY date\u001b[39m\u001b[39m\"\u001b[39m\n",
      "\u001b[1;31mNameError\u001b[0m: name 'date_request' is not defined"
     ]
    }
   ],
   "source": [
    "date_lower_str = str(date_request.loc[crypto_id]['date_request'] - datetime.timedelta(hours=2))\n",
    "date_upper_str = str(date_request.loc[crypto_id]['date_request'] - datetime.timedelta(hours=2))\n",
    "\n",
    "new_close_string = f\"SELECT date, close FROM crypto_price WHERE 'date' > '{date_lower_str}' AND 'date' <= '{date_upper_str}' ORDER BY date\"\n",
    "pd.read_sql_query(new_close_string, engine)"
   ]
  },
  {
   "cell_type": "code",
   "execution_count": 20,
   "metadata": {},
   "outputs": [
    {
     "data": {
      "text/html": [
       "<div>\n",
       "<style scoped>\n",
       "    .dataframe tbody tr th:only-of-type {\n",
       "        vertical-align: middle;\n",
       "    }\n",
       "\n",
       "    .dataframe tbody tr th {\n",
       "        vertical-align: top;\n",
       "    }\n",
       "\n",
       "    .dataframe thead th {\n",
       "        text-align: right;\n",
       "    }\n",
       "</style>\n",
       "<table border=\"1\" class=\"dataframe\">\n",
       "  <thead>\n",
       "    <tr style=\"text-align: right;\">\n",
       "      <th></th>\n",
       "      <th>date</th>\n",
       "      <th>close</th>\n",
       "    </tr>\n",
       "  </thead>\n",
       "  <tbody>\n",
       "    <tr>\n",
       "      <th>0</th>\n",
       "      <td>2022-03-11 16:15:00</td>\n",
       "      <td>1.314</td>\n",
       "    </tr>\n",
       "    <tr>\n",
       "      <th>1</th>\n",
       "      <td>2022-03-11 16:30:00</td>\n",
       "      <td>1.315</td>\n",
       "    </tr>\n",
       "    <tr>\n",
       "      <th>2</th>\n",
       "      <td>2022-03-11 16:45:00</td>\n",
       "      <td>1.318</td>\n",
       "    </tr>\n",
       "    <tr>\n",
       "      <th>3</th>\n",
       "      <td>2022-03-11 17:00:00</td>\n",
       "      <td>1.312</td>\n",
       "    </tr>\n",
       "    <tr>\n",
       "      <th>4</th>\n",
       "      <td>2022-03-11 17:15:00</td>\n",
       "      <td>1.314</td>\n",
       "    </tr>\n",
       "    <tr>\n",
       "      <th>...</th>\n",
       "      <td>...</td>\n",
       "      <td>...</td>\n",
       "    </tr>\n",
       "    <tr>\n",
       "      <th>95</th>\n",
       "      <td>2022-03-12 16:00:00</td>\n",
       "      <td>1.359</td>\n",
       "    </tr>\n",
       "    <tr>\n",
       "      <th>96</th>\n",
       "      <td>2022-03-12 16:15:00</td>\n",
       "      <td>1.370</td>\n",
       "    </tr>\n",
       "    <tr>\n",
       "      <th>97</th>\n",
       "      <td>2022-03-12 16:30:00</td>\n",
       "      <td>1.368</td>\n",
       "    </tr>\n",
       "    <tr>\n",
       "      <th>98</th>\n",
       "      <td>2022-03-12 16:45:00</td>\n",
       "      <td>1.366</td>\n",
       "    </tr>\n",
       "    <tr>\n",
       "      <th>99</th>\n",
       "      <td>2022-03-12 17:00:00</td>\n",
       "      <td>1.372</td>\n",
       "    </tr>\n",
       "  </tbody>\n",
       "</table>\n",
       "<p>100 rows × 2 columns</p>\n",
       "</div>"
      ],
      "text/plain": [
       "                  date  close\n",
       "0  2022-03-11 16:15:00  1.314\n",
       "1  2022-03-11 16:30:00  1.315\n",
       "2  2022-03-11 16:45:00  1.318\n",
       "3  2022-03-11 17:00:00  1.312\n",
       "4  2022-03-11 17:15:00  1.314\n",
       "..                 ...    ...\n",
       "95 2022-03-12 16:00:00  1.359\n",
       "96 2022-03-12 16:15:00  1.370\n",
       "97 2022-03-12 16:30:00  1.368\n",
       "98 2022-03-12 16:45:00  1.366\n",
       "99 2022-03-12 17:00:00  1.372\n",
       "\n",
       "[100 rows x 2 columns]"
      ]
     },
     "execution_count": 20,
     "metadata": {},
     "output_type": "execute_result"
    }
   ],
   "source": [
    "date_lower_str = \"2022-03-11 16:00:00\"\n",
    "date_upper_str = \"2022-03-12 17:00:00\"\n",
    "id = 1\n",
    "new_close_string = f\"SELECT date, close FROM crypto_price WHERE crypto_id = {id} AND date > '{date_lower_str}' AND date <= '{date_upper_str}' ORDER BY date\"\n",
    "pd.read_sql_query(new_close_string, engine)"
   ]
  }
 ],
 "metadata": {
  "interpreter": {
   "hash": "f4d0259107f51ae7c300a0730da527b49f9214f17e1b18bf896f8b8648417978"
  },
  "kernelspec": {
   "display_name": "Python 3.8.12 ('base')",
   "language": "python",
   "name": "python3"
  },
  "language_info": {
   "codemirror_mode": {
    "name": "ipython",
    "version": 3
   },
   "file_extension": ".py",
   "mimetype": "text/x-python",
   "name": "python",
   "nbconvert_exporter": "python",
   "pygments_lexer": "ipython3",
   "version": "3.8.12"
  },
  "orig_nbformat": 4
 },
 "nbformat": 4,
 "nbformat_minor": 2
}
